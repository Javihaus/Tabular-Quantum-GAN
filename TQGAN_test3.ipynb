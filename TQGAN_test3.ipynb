{
  "nbformat": 4,
  "nbformat_minor": 0,
  "metadata": {
    "colab": {
      "provenance": [],
      "toc_visible": true
    },
    "kernelspec": {
      "name": "python3",
      "display_name": "Python 3"
    },
    "language_info": {
      "name": "python"
    }
  },
  "cells": [
    {
      "cell_type": "code",
      "source": [
        "#pip install pennylane"
      ],
      "metadata": {
        "id": "EwpSY5vrxiiv"
      },
      "execution_count": 1,
      "outputs": []
    },
    {
      "cell_type": "markdown",
      "source": [
        "# Imports"
      ],
      "metadata": {
        "id": "xNzki-9h6duN"
      }
    },
    {
      "cell_type": "code",
      "execution_count": 2,
      "metadata": {
        "id": "UtNx1o9wxhQH"
      },
      "outputs": [],
      "source": [
        "import math\n",
        "import random\n",
        "import numpy as np\n",
        "import pandas as pd\n",
        "from pandas.core.dtypes.dtypes import CategoricalDtype\n",
        "import sklearn\n",
        "from sklearn.datasets import make_circles, make_s_curve, make_swiss_roll\n",
        "from sklearn.pipeline import make_pipeline\n",
        "from sklearn.compose import ColumnTransformer\n",
        "from sklearn.compose import make_column_selector as selector\n",
        "from sklearn.preprocessing import MinMaxScaler, PowerTransformer,\\\n",
        "                            QuantileTransformer, KBinsDiscretizer\n",
        "from sklearn.cluster import KMeans\n",
        "from sklearn.linear_model import LogisticRegression\n",
        "import pennylane as qml\n",
        "from pennylane import numpy as pnp\n",
        "import plotly.express as px\n",
        "from plotly.subplots import make_subplots\n",
        "import plotly.graph_objects as go\n",
        "\n",
        "# Pytorch imports\n",
        "import torch\n",
        "import torch.nn as nn\n",
        "import torch.optim as optim\n",
        "import torchvision.transforms as transforms\n",
        "from torch.utils.data import Dataset, DataLoader\n",
        "\n",
        "# Set the random seed for reproducibility\n",
        "seed = 42\n",
        "torch.manual_seed(seed)\n",
        "np.random.seed(seed)\n",
        "random.seed(seed)"
      ]
    },
    {
      "cell_type": "code",
      "source": [
        "# Enable CUDA device if available\n",
        "device = torch.device(\"cuda:0\" if torch.cuda.is_available() else \"cpu\")"
      ],
      "metadata": {
        "id": "dblP60ESfi_A"
      },
      "execution_count": 3,
      "outputs": []
    },
    {
      "cell_type": "markdown",
      "source": [
        "#Load data"
      ],
      "metadata": {
        "id": "Xi9TVLzab6Pn"
      }
    },
    {
      "cell_type": "code",
      "source": [
        "\"\"\"\n",
        "Circles dataset: 2d binary classification dataset that is\n",
        "challenging to certain algorithms (e.g. centroid-based\n",
        "clustering or linear classification).\n",
        "\"\"\"\n",
        "X, y = make_circles(\n",
        "    n_samples=1000,\n",
        "    noise=0.01,\n",
        "    random_state=seed\n",
        "    )\n",
        "df = pd.DataFrame(\n",
        "    X,\n",
        "    columns=['v1','v2']).merge(\n",
        "        pd.DataFrame(y, columns=['y']),\n",
        "        left_index=True,\n",
        "        right_index=True\n",
        ")\n",
        "df['y'] = df['y'].astype('category')"
      ],
      "metadata": {
        "id": "Jzs2Pqbzb0Pj"
      },
      "execution_count": 4,
      "outputs": []
    },
    {
      "cell_type": "code",
      "source": [
        "\"\"\"\n",
        "Swiss roll dataset. Ref: S. Marsland, “Machine Learning:\n",
        "An Algorithmic Perspective”, 2nd edition, Chapter 6, 2014.\n",
        "\"\"\"\n",
        "\"\"\"X, y = make_swiss_roll(\n",
        "    n_samples=1500,\n",
        "    noise=0.01,\n",
        "    random_state=seed\n",
        "    )\n",
        "df = pd.DataFrame(\n",
        "    X,\n",
        "    columns=['v1','v2','v3']).merge(\n",
        "        pd.DataFrame(y, columns=['y']),\n",
        "        left_index=True,\n",
        "        right_index=True\n",
        ")\"\"\""
      ],
      "metadata": {
        "colab": {
          "base_uri": "https://localhost:8080/",
          "height": 55
        },
        "id": "p57OFRMFNUOw",
        "outputId": "4a77131a-beaf-4acf-add5-85bf2d794af3"
      },
      "execution_count": 5,
      "outputs": [
        {
          "output_type": "execute_result",
          "data": {
            "text/plain": [
              "\"X, y = make_swiss_roll(\\n    n_samples=1500,\\n    noise=0.01,\\n    random_state=seed\\n    )\\ndf = pd.DataFrame(\\n    X,\\n    columns=['v1','v2','v3']).merge(\\n        pd.DataFrame(y, columns=['y']),\\n        left_index=True,\\n        right_index=True\\n)\""
            ],
            "application/vnd.google.colaboratory.intrinsic+json": {
              "type": "string"
            }
          },
          "metadata": {},
          "execution_count": 5
        }
      ]
    },
    {
      "cell_type": "markdown",
      "source": [
        "## Input data transformation"
      ],
      "metadata": {
        "id": "wTsKapnHT9i2"
      }
    },
    {
      "cell_type": "code",
      "source": [
        "def columns_type(df: pd.DataFrame):\n",
        "    \"\"\"\n",
        "    Args:\n",
        "        df(pd.DataFrame):\n",
        "            input data\n",
        "\n",
        "    Returns:\n",
        "        two lists with numerical and\n",
        "        categorical column names.\n",
        "    \"\"\"\n",
        "    numerical_columns_selector = selector(\n",
        "        dtype_exclude=CategoricalDtype\n",
        "        )\n",
        "    categorical_columns_selector = selector(\n",
        "        dtype_include=CategoricalDtype\n",
        "        )\n",
        "    numerical_columns = numerical_columns_selector(df)\n",
        "    categorical_columns = categorical_columns_selector(df)\n",
        "    return numerical_columns, categorical_columns\n",
        "\n",
        "\n",
        "def transform_input_data(\n",
        "    df: pd.DataFrame,\n",
        "    numerical_columns: list,\n",
        "    categorical_columns: list,\n",
        "    ):\n",
        "    \"\"\"\n",
        "    Args:\n",
        "        df(pd.DataFrame):\n",
        "            input data\n",
        "        numerical_columns:\n",
        "            list with numerical columns names\n",
        "        categorical_columns:\n",
        "            list with categorical columns name\n",
        "\n",
        "    Returns:\n",
        "        prepared dataframe for input\"\"\"\n",
        "    categorical_scaler = make_pipeline(\n",
        "        MinMaxScaler(\n",
        "            feature_range=(0, 1),\n",
        "            )\n",
        "        )\n",
        "    numerical_scaler = make_pipeline(\n",
        "        #QuantileTransformer(\n",
        "        #    n_quantiles=100,\n",
        "        #    output_distribution='normal',\n",
        "        #   ),\n",
        "        MinMaxScaler(\n",
        "            feature_range=(0, 1),\n",
        "            )\n",
        "        )\n",
        "    scaled_X = df.copy()\n",
        "    for cat_c in categorical_columns:\n",
        "      scaled_X[cat_c] = categorical_scaler.fit_transform(\n",
        "          np.array(df[cat_c]).reshape(-1, 1)\n",
        "          ).flatten()\n",
        "\n",
        "    for num_c in numerical_columns:\n",
        "      scaled_X[num_c] = numerical_scaler.fit_transform(\n",
        "          np.array(df[num_c]).reshape(-1, 1)\n",
        "          ).flatten()\n",
        "\n",
        "    return np.array(scaled_X),\\\n",
        "                    categorical_scaler, numerical_scaler\n",
        "\n",
        "\n",
        "def transform_synthetic_data(\n",
        "    df: pd.DataFrame,\n",
        "    x_synthetic: np.array,\n",
        "    categorical_columns: list,\n",
        "    numerical_columns: list,\n",
        "    categorical_scaler: sklearn.pipeline.Pipeline,\n",
        "    numerical_scaler: sklearn.pipeline.Pipeline\n",
        "    ):\n",
        "    \"\"\"\n",
        "    Args:\n",
        "        df(pd.DataFrame):\n",
        "            input data\n",
        "        x_synthetic(np.array):\n",
        "            data generated by GAN network\n",
        "        categorical_columns(list):\n",
        "            list with categorical columns name\n",
        "        numerical_columns:(list)\n",
        "                list with numerical columns names\n",
        "        categorical_scaler(sklearn.pipeline.Pipeline):\n",
        "                scikit learn transfomed used for\n",
        "                input data preparation for categorical\n",
        "                features\n",
        "        numerical_scaler(sklearn.pipeline.Pipeline):\n",
        "                scikit learn transfomed used for\n",
        "                input data preparation for numerical\n",
        "                features\n",
        "    Returns:\n",
        "        Synthetic dataframe (pd.DataFrame)\"\"\"\n",
        "\n",
        "    newdf = pd.DataFrame(\n",
        "        x_synthetic,\n",
        "        columns=df.columns\n",
        "        )\n",
        "    for cat_c in categorical_columns:\n",
        "      if np.unique(df[cat_c]).shape[0] > 1:\n",
        "        newdf[cat_c] = categorical_scaler.inverse_transform(\n",
        "            np.array(\n",
        "                newdf[cat_c]).reshape(-1,1)\n",
        "                )\n",
        "        kbins = KBinsDiscretizer(\n",
        "              n_bins=np.unique(df[cat_c]).shape[0],\n",
        "              encode='ordinal',\n",
        "              strategy='uniform'\n",
        "              )\n",
        "        newdf[cat_c] = kbins.fit_transform(\n",
        "            np.array(newdf[cat_c]).reshape(-1,1)\n",
        "            ).astype(int)\n",
        "        newdf[cat_c]= newdf[cat_c].astype('category')\n",
        "      else:\n",
        "        pass\n",
        "\n",
        "      if np.unique(df[cat_c]).shape[0] == 2:\n",
        "        newdf[cat_c].replace(\n",
        "            [\n",
        "                np.unique(newdf[cat_c])[0],\n",
        "                np.unique(newdf[cat_c])[1]\n",
        "             ],\n",
        "            [\n",
        "                np.unique(df[cat_c])[0],\n",
        "                np.unique(df[cat_c])[1]\n",
        "             ],\n",
        "            inplace=True\n",
        "            )\n",
        "      else:\n",
        "        pass\n",
        "\n",
        "    for num_c in numerical_columns:\n",
        "      newdf[num_c] = numerical_scaler.inverse_transform(\n",
        "          np.array(\n",
        "              newdf[num_c]).reshape(-1,1)\n",
        "              ).flatten().astype('float64')\n",
        "      mima_scaler = MinMaxScaler(\n",
        "                feature_range=(\n",
        "                    df[num_c].min(),\n",
        "                    df[num_c].max()\n",
        "                    )\n",
        "                )\n",
        "      newdf[num_c] = mima_scaler.fit_transform(\n",
        "              np.array(\n",
        "                  newdf[num_c]).reshape(-1, 1)\n",
        "                  ).flatten().astype('float64')\n",
        "\n",
        "    return newdf"
      ],
      "metadata": {
        "id": "jwGXf9JXT8MY"
      },
      "execution_count": 6,
      "outputs": []
    },
    {
      "cell_type": "code",
      "source": [
        "# Dataset class\n",
        "class ArrayDataset(Dataset):\n",
        "    \"\"\"PyTorch dataset for an array of data\"\"\"\n",
        "\n",
        "    def __init__(self, data_array, transform=None):\n",
        "        \"\"\"\n",
        "        Args:\n",
        "            data_array (numpy.ndarray): Array with the data.\n",
        "            transform (callable, optional): Optional transform to be applied on a sample.\n",
        "        \"\"\"\n",
        "        self.data_array = data_array\n",
        "        self.transform = transform\n",
        "\n",
        "    def __len__(self):\n",
        "        return len(self.data_array)\n",
        "\n",
        "    def __getitem__(self, idx):\n",
        "        if torch.is_tensor(idx):\n",
        "            idx = idx.tolist()\n",
        "\n",
        "        sample = self.data_array[idx]\n",
        "        if self.transform:\n",
        "            sample = self.transform(sample)\n",
        "\n",
        "        return sample, 0\n",
        "\n",
        "\n",
        "# Custom transform to convert numpy array to tensor\n",
        "class ToTensorTransform:\n",
        "    def __call__(self, sample):\n",
        "        return torch.tensor(sample, dtype=torch.float32)"
      ],
      "metadata": {
        "id": "69RG2wYlSLFJ"
      },
      "execution_count": 7,
      "outputs": []
    },
    {
      "cell_type": "code",
      "source": [
        "# Identify numerical and categorical columns\n",
        "numerical_columns, categorical_columns = columns_type(df)\n",
        "\n",
        "# Transform input data\n",
        "transformed_data, categorical_scaler, numerical_scaler = transform_input_data(\n",
        "    df, numerical_columns, categorical_columns\n",
        ")\n",
        "\n",
        "# Copy the transformed data\n",
        "data = transformed_data.copy()\n",
        "# Set batch size\n",
        "batch_size = 1\n",
        "\n",
        "# Create a transformation object\n",
        "transform = ToTensorTransform()\n",
        "\n",
        "# Create a dataset from the data array with the specified transformation\n",
        "dataset = ArrayDataset(data_array=data, transform=transform)\n",
        "\n",
        "# Create a data loader with the specified batch size, shuffle, and drop_last options\n",
        "dataloader = DataLoader(\n",
        "    dataset, batch_size=batch_size, shuffle=True, drop_last=True\n",
        "    )"
      ],
      "metadata": {
        "id": "MAcqiR3rBwxE"
      },
      "execution_count": 8,
      "outputs": []
    },
    {
      "cell_type": "markdown",
      "source": [
        "# Tabular Quantum GAN"
      ],
      "metadata": {
        "id": "ZfQJJGpQ6rDw"
      }
    },
    {
      "cell_type": "markdown",
      "source": [
        "## Discriminator"
      ],
      "metadata": {
        "id": "waiuNsYSSRld"
      }
    },
    {
      "cell_type": "code",
      "source": [
        "# Discriminator\n",
        "class Discriminator(nn.Module):\n",
        "    \"\"\"Fully connected classical discriminator\"\"\"\n",
        "\n",
        "    def __init__(self, input_dim):\n",
        "        super().__init__()\n",
        "\n",
        "        self.model = nn.Sequential(\n",
        "            nn.Linear(input_dim, 512),\n",
        "            nn.ReLU(),\n",
        "            nn.Linear(512, 256),\n",
        "            nn.ReLU(),\n",
        "            nn.Linear(256, 128),\n",
        "            nn.ReLU(),\n",
        "            nn.Linear(128, 1),\n",
        "            nn.Sigmoid(),\n",
        "        )\n",
        "\n",
        "    def forward(self, x):\n",
        "        return self.model(x)\n",
        ""
      ],
      "metadata": {
        "id": "DZI-0JYBSQ65"
      },
      "execution_count": 9,
      "outputs": []
    },
    {
      "cell_type": "markdown",
      "source": [
        "## Quantum circuit"
      ],
      "metadata": {
        "id": "I5iqhiEjSW-h"
      }
    },
    {
      "cell_type": "code",
      "source": [
        "# Quantum variables\n",
        "n_qubits = 5  # Total number of qubits\n",
        "n_a_qubits = 1  # Number of ancillary qubits\n",
        "q_depth = 12  # Depth of the parameterised quantum circuit\n",
        "n_generators = 4  # Number of subgenerators for the patch method\n",
        "\n",
        "# Quantum simulator\n",
        "dev = qml.device(\"lightning.qubit\", wires=n_qubits)\n",
        "\n",
        "\n",
        "# Quantum circuit\n",
        "@qml.qnode(dev, diff_method=\"parameter-shift\")\n",
        "def quantum_circuit(noise, weights):\n",
        "\n",
        "    weights = weights.reshape(q_depth, n_qubits)\n",
        "\n",
        "    # Initialise latent vectors\n",
        "    for i in range(n_qubits):\n",
        "        qml.RY(noise[i], wires=i)\n",
        "\n",
        "    # Repeated layer\n",
        "    for i in range(q_depth):\n",
        "        # Parametrized layer\n",
        "        for y in range(n_qubits):\n",
        "            qml.RY(weights[i][y], wires=y)\n",
        "            #qml.RX(weights[i][y], wires=y)\n",
        "            #qml.RZ(weights[i][y], wires=y)\n",
        "\n",
        "        # Control Z gates\n",
        "        for y in range(n_qubits - 1):\n",
        "            qml.CZ(wires=[y, y + 1])\n",
        "\n",
        "        # Include an additional entangling gate (CNOT)\n",
        "        #qml.CNOT(wires=[n_qubits - 1, 0])\n",
        "\n",
        "    return qml.probs(wires=list(range(n_qubits)))\n",
        "\n",
        "\n",
        "def partial_measure(noise, weights):\n",
        "    probs = quantum_circuit(noise, weights)\n",
        "    probsgiven0 = probs[: (2 ** (n_qubits - n_a_qubits))]\n",
        "    probsgiven0 /= torch.sum(probs)\n",
        "    probsgiven = probsgiven0 / torch.max(probsgiven0)\n",
        "    return probsgiven\n"
      ],
      "metadata": {
        "id": "hIk283UtSWFm"
      },
      "execution_count": 10,
      "outputs": []
    },
    {
      "cell_type": "markdown",
      "source": [
        "## Patch Quantum Generator"
      ],
      "metadata": {
        "id": "6jo0FiTdScwU"
      }
    },
    {
      "cell_type": "code",
      "source": [
        "# Quantum generator\n",
        "class PatchQuantumGenerator(nn.Module):\n",
        "    \"\"\"Quantum generator class for the patch method\"\"\"\n",
        "\n",
        "    def __init__(self, n_generators, output_dim, q_delta=1):\n",
        "        super().__init__()\n",
        "\n",
        "        self.q_params = nn.ParameterList(\n",
        "            [nn.Parameter(q_delta * torch.rand(q_depth * n_qubits), requires_grad=True) for _ in range(n_generators)]\n",
        "        )\n",
        "        self.n_generators = n_generators\n",
        "        self.output_dim = output_dim\n",
        "\n",
        "    def forward(self, x):\n",
        "        patch_size = 2 ** (n_qubits - n_a_qubits)\n",
        "        total_patches = (self.output_dim + patch_size - 1) // patch_size  # Total number of patches needed\n",
        "        fake = torch.Tensor(x.size(0), 0).to(device)\n",
        "\n",
        "        for params in self.q_params:\n",
        "            patches = torch.Tensor(0, patch_size).to(device)\n",
        "\n",
        "            for elem in x:\n",
        "                q_out = partial_measure(elem, params).float().unsqueeze(0)\n",
        "                patches = torch.cat((patches, q_out))\n",
        "\n",
        "            fake = torch.cat((fake, patches), 1)\n",
        "\n",
        "        fake = fake[:, :self.output_dim]  # Ensure the output dimension matches exactly\n",
        "        return fake"
      ],
      "metadata": {
        "id": "HF820Y6QSbQx"
      },
      "execution_count": 11,
      "outputs": []
    },
    {
      "cell_type": "markdown",
      "source": [
        "## Train GAN"
      ],
      "metadata": {
        "id": "yydiZE_FSgR1"
      }
    },
    {
      "cell_type": "code",
      "source": [
        "# Generate the same number of samples than input data\n",
        "input_dim = data.shape[1]\n",
        "\n",
        "lrG = 0.0001\n",
        "lrD = 0.0001\n",
        "num_iter = 300\n",
        "\n",
        "discriminator = Discriminator(input_dim).to(device)\n",
        "generator = PatchQuantumGenerator(n_generators, input_dim).to(device)\n",
        "\n",
        "criterion = nn.BCELoss()\n",
        "optD = optim.Adam(discriminator.parameters(), lr=lrD)\n",
        "optG = optim.Adam(generator.parameters(), lr=lrG)\n",
        "\n",
        "real_labels = torch.full((batch_size,), 1.0, dtype=torch.float, device=device)\n",
        "fake_labels = torch.full((batch_size,), 0.0, dtype=torch.float, device=device)\n",
        "\n",
        "counter = 0\n",
        "\n",
        "while True:\n",
        "    for i, (data, _) in enumerate(dataloader):\n",
        "        real_data = data.to(device)\n",
        "        noise = torch.rand(batch_size, n_qubits, device=device) * math.pi / 2\n",
        "        fake_data = generator(noise)\n",
        "\n",
        "        discriminator.zero_grad()\n",
        "        outD_real = discriminator(real_data).view(-1)\n",
        "        outD_fake = discriminator(fake_data.detach()).view(-1)\n",
        "\n",
        "        errD_real = criterion(outD_real, real_labels)\n",
        "        errD_fake = criterion(outD_fake, fake_labels)\n",
        "        errD_real.backward()\n",
        "        errD_fake.backward()\n",
        "        errD = (errD_real + errD_fake)/2\n",
        "        optD.step()\n",
        "\n",
        "        generator.zero_grad()\n",
        "        outD_fake = discriminator(fake_data).view(-1)\n",
        "        errG = criterion(outD_fake, real_labels)\n",
        "        errG.backward()\n",
        "        optG.step()\n",
        "\n",
        "        counter += 1\n",
        "\n",
        "        if counter % 20 == 0:\n",
        "            print(f'Iteration: {counter}, Discriminator Loss: {errD:0.3f}, Generator Loss: {errG:0.3f}')\n",
        "\n",
        "        if counter == num_iter:\n",
        "            break\n",
        "\n",
        "    if counter == num_iter:\n",
        "        break"
      ],
      "metadata": {
        "colab": {
          "base_uri": "https://localhost:8080/"
        },
        "id": "9F-2fL0hUKY-",
        "outputId": "bc3ffab3-c1d2-4a52-826c-cb200da1bb23"
      },
      "execution_count": 12,
      "outputs": [
        {
          "output_type": "stream",
          "name": "stdout",
          "text": [
            "Iteration: 20, Discriminator Loss: 0.682, Generator Loss: 0.665\n",
            "Iteration: 40, Discriminator Loss: 0.623, Generator Loss: 0.755\n",
            "Iteration: 60, Discriminator Loss: 0.737, Generator Loss: 0.621\n",
            "Iteration: 80, Discriminator Loss: 0.575, Generator Loss: 0.791\n",
            "Iteration: 100, Discriminator Loss: 0.646, Generator Loss: 0.587\n",
            "Iteration: 120, Discriminator Loss: 0.554, Generator Loss: 0.806\n",
            "Iteration: 140, Discriminator Loss: 0.486, Generator Loss: 0.826\n",
            "Iteration: 160, Discriminator Loss: 0.372, Generator Loss: 1.078\n",
            "Iteration: 180, Discriminator Loss: 0.372, Generator Loss: 1.096\n",
            "Iteration: 200, Discriminator Loss: 0.793, Generator Loss: 0.664\n",
            "Iteration: 220, Discriminator Loss: 0.380, Generator Loss: 0.960\n",
            "Iteration: 240, Discriminator Loss: 0.389, Generator Loss: 1.018\n",
            "Iteration: 260, Discriminator Loss: 0.675, Generator Loss: 1.227\n",
            "Iteration: 280, Discriminator Loss: 0.358, Generator Loss: 0.968\n",
            "Iteration: 300, Discriminator Loss: 0.561, Generator Loss: 1.136\n"
          ]
        }
      ]
    },
    {
      "cell_type": "markdown",
      "source": [
        "## Synthetic data"
      ],
      "metadata": {
        "id": "hXtNotuZSjDK"
      }
    },
    {
      "cell_type": "code",
      "source": [
        "num_synthetic_samples = transformed_data.shape[0]\n",
        "noise_for_synthetic = torch.rand(num_synthetic_samples, n_qubits, device=device) * math.pi / 2\n",
        "synthetic_data = generator(noise_for_synthetic).detach().cpu().numpy()\n",
        "df_synthetic = transform_synthetic_data(\n",
        "    df=df,\n",
        "    x_synthetic=synthetic_data,\n",
        "    categorical_columns=categorical_columns,\n",
        "    numerical_columns=numerical_columns,\n",
        "    categorical_scaler=categorical_scaler,\n",
        "    numerical_scaler=numerical_scaler\n",
        "    )"
      ],
      "metadata": {
        "id": "FLxvr9ZnVdUz"
      },
      "execution_count": 13,
      "outputs": []
    },
    {
      "cell_type": "markdown",
      "source": [
        "# Plot results"
      ],
      "metadata": {
        "id": "xwgnCoV1IjpO"
      }
    },
    {
      "cell_type": "code",
      "source": [
        "fig = make_subplots(\n",
        "    rows=1,\n",
        "    cols=2,\n",
        "    subplot_titles=(\"Original data\", \"Synthetic data\"))\n",
        "\n",
        "fig.add_trace(\n",
        "    go.Scatter(x=df['v1'],\n",
        "               y=df['v2'],\n",
        "               marker_color = df['y'],\n",
        "               mode='markers'),\n",
        "    row=1, col=1\n",
        ")\n",
        "\n",
        "fig.update_xaxes(range=[-1.2, 1.2], row=1, col=1)\n",
        "fig.update_yaxes(range=[-1.2, 1.2], row=1, col=1)\n",
        "fig.update_xaxes(range=[-1.2, 1.2], row=1, col=2)\n",
        "fig.update_yaxes(range=[-1.2, 1.2], row=1, col=2)\n",
        "\n",
        "fig.add_trace(\n",
        "    go.Scatter(x=df_synthetic['v1'],\n",
        "               y=df_synthetic['v2'],\n",
        "               marker_color = df_synthetic['y'],\n",
        "               mode='markers'),\n",
        "    row=1, col=2\n",
        ")\n",
        "\n",
        "\n",
        "fig.update_layout(height=600, width=800)\n",
        "fig.show()"
      ],
      "metadata": {
        "colab": {
          "base_uri": "https://localhost:8080/",
          "height": 617
        },
        "id": "Zsj-EClZg8e8",
        "outputId": "4abf4227-2c53-4e3a-c64c-452ee36d3584"
      },
      "execution_count": 14,
      "outputs": [
        {
          "output_type": "display_data",
          "data": {
            "text/html": [
              "<html>\n",
              "<head><meta charset=\"utf-8\" /></head>\n",
              "<body>\n",
              "    <div>            <script src=\"https://cdnjs.cloudflare.com/ajax/libs/mathjax/2.7.5/MathJax.js?config=TeX-AMS-MML_SVG\"></script><script type=\"text/javascript\">if (window.MathJax && window.MathJax.Hub && window.MathJax.Hub.Config) {window.MathJax.Hub.Config({SVG: {font: \"STIX-Web\"}});}</script>                <script type=\"text/javascript\">window.PlotlyConfig = {MathJaxConfig: 'local'};</script>\n",
              "        <script charset=\"utf-8\" src=\"https://cdn.plot.ly/plotly-2.24.1.min.js\"></script>                <div id=\"a8eecb10-801c-49c1-ab6a-03b36dd09a20\" class=\"plotly-graph-div\" style=\"height:600px; width:800px;\"></div>            <script type=\"text/javascript\">                                    window.PLOTLYENV=window.PLOTLYENV || {};                                    if (document.getElementById(\"a8eecb10-801c-49c1-ab6a-03b36dd09a20\")) {                    Plotly.newPlot(                        \"a8eecb10-801c-49c1-ab6a-03b36dd09a20\",                        [{\"marker\":{\"color\":[1,1,1,1,0,1,1,1,1,0,1,0,1,1,1,1,0,1,1,0,1,0,0,1,0,0,0,1,1,1,0,0,1,0,0,0,1,1,1,0,0,0,0,1,0,0,1,1,0,1,1,1,0,1,0,0,1,0,0,1,0,0,1,0,1,1,1,1,0,1,0,0,1,1,0,0,1,0,1,0,1,0,0,0,0,1,1,1,1,0,0,0,1,0,1,0,1,0,0,1,1,0,1,0,1,1,1,1,0,1,1,1,1,1,0,0,0,1,1,0,1,0,1,0,0,1,1,0,1,1,1,1,0,1,1,0,0,0,0,0,0,0,1,0,1,1,1,0,1,0,1,0,1,0,1,0,0,1,0,1,1,1,1,1,1,1,0,1,0,0,0,0,0,1,0,0,0,0,1,1,0,1,0,1,1,0,0,0,1,1,1,1,1,0,0,0,0,0,1,0,0,1,1,1,1,1,0,1,0,1,0,0,1,1,1,0,1,0,1,1,0,1,1,0,1,0,1,0,1,1,0,1,0,1,0,0,0,1,0,0,0,0,1,1,0,0,0,0,0,0,0,1,1,1,0,0,1,1,1,0,1,0,0,0,0,1,1,0,1,0,0,0,1,0,1,0,0,1,0,1,1,1,0,0,0,1,0,0,0,1,1,1,1,0,0,0,1,0,0,0,1,0,0,0,1,1,0,1,1,1,1,1,1,1,0,0,0,0,1,0,0,0,0,1,1,1,0,0,1,0,1,0,1,1,0,0,1,1,1,1,0,0,0,0,0,0,1,1,0,1,0,0,1,0,0,0,0,0,0,0,0,1,0,0,0,0,1,0,0,1,0,1,0,0,0,1,0,0,1,1,0,0,1,0,0,1,1,0,1,1,0,0,1,0,1,0,0,0,1,1,0,0,1,1,1,1,1,0,0,1,1,1,1,0,1,1,1,1,1,0,0,1,0,1,0,0,0,0,1,0,0,0,0,0,0,0,0,0,1,1,0,1,1,1,1,1,1,0,1,1,1,1,0,0,0,1,1,1,0,0,0,0,1,1,0,0,0,0,1,0,0,0,1,0,0,1,1,1,1,1,1,0,0,0,1,0,0,0,0,0,1,1,1,0,0,0,0,0,1,1,1,0,0,1,1,1,1,0,1,1,0,1,0,0,0,1,0,0,1,0,0,1,1,0,0,1,1,0,1,0,1,0,1,0,1,0,0,0,1,0,0,0,0,0,0,1,1,1,1,0,0,0,1,0,1,1,0,0,0,0,0,1,1,1,0,0,1,0,0,1,0,0,1,0,0,1,0,0,0,1,0,0,1,1,1,0,1,1,0,0,0,1,1,1,1,0,0,1,1,1,0,0,0,0,1,1,0,0,1,1,0,0,1,1,1,1,1,1,1,0,1,0,1,0,0,1,0,1,1,1,1,0,0,1,1,0,0,1,0,1,0,0,0,1,0,0,1,1,1,1,0,1,1,1,1,1,1,1,0,1,0,1,1,1,0,0,1,0,0,0,1,1,1,1,0,0,0,0,1,0,1,1,1,0,1,0,0,1,0,0,1,1,1,1,1,0,1,0,0,0,1,1,1,1,1,0,0,0,1,1,1,1,0,0,0,0,0,1,1,0,1,0,1,0,0,0,0,0,0,0,0,0,1,1,1,1,1,0,1,0,1,1,1,1,0,1,1,1,1,1,1,1,1,0,1,1,0,1,0,0,0,1,0,1,1,1,0,1,1,0,1,1,0,1,0,1,1,0,0,1,1,1,0,0,0,0,1,1,0,0,1,1,1,1,1,1,1,1,1,1,1,1,1,1,0,0,1,0,1,0,1,0,1,1,1,1,1,1,0,1,0,1,1,1,0,1,1,0,0,1,0,1,1,0,0,1,1,1,1,1,1,1,1,0,1,1,1,0,1,0,0,1,1,0,0,0,1,0,0,1,0,0,0,1,0,1,0,0,0,0,1,0,1,1,1,1,0,1,0,0,0,0,0,0,1,0,1,0,1,0,1,1,1,0,1,0,1,0,0,1,1,1,0,0,0,1,1,0,1,0,1,1,0,1,0,0,1,1,1,0,0,0,1,1,0,0,0,0,0,1,1,0,1,0,0,0,1,0,0,0,1,1,1,1,0,1,1,1,0,1,1,1,1,0,1,1,0,1,1,0,0,1,1,1,0,0,0,0,0,0,1,0,0,1,0,0,0,1,0,1,0,1,1,0,0,0,0,0,0,0,0,1,0,1,0,0,0,1,0,0]},\"mode\":\"markers\",\"x\":[0.7662856242776553,-0.7782854643180102,-0.8009251518760947,-0.3583258651354771,0.43881305949483673,-0.4894072496784802,-0.011251341100338113,0.783403594839052,-0.1629527695180291,-0.13235545915500027,-0.5983282854270642,0.5748706702354921,-0.11273345855845555,0.7476282985094514,0.579744472174145,0.22183074589419247,-0.9321682725485532,0.08921348007912386,-0.8012172999765008,-0.6454040177682384,0.6443233334363002,-0.5724789222589068,-0.04058509810017338,0.7495184784750801,-0.8872205844167983,-0.9671895376040924,0.2935663142393053,0.8005212172618603,0.26198155619389457,0.638669248896449,-0.34255284550033943,-0.19134523976956133,0.029611600515345157,1.0016269862396248,-0.07169895295382399,-0.7921850902297811,-0.5641484380357807,0.4120035094239941,0.25892349821559696,0.7400155566839103,-0.5702900680661848,0.3582507122323023,-0.7124379538498472,0.7830655550131705,-0.8222201189803293,-0.9322805712208119,0.47058062762811653,0.23533446954716403,0.7330102803536643,-0.38269153867349615,0.498685001721483,0.040128919997503475,-0.9824170345955425,0.4563050918806039,0.948349867311922,0.9217853801799987,0.08029636305654368,0.9853390391871408,-0.9421543795089569,-0.5110876319937818,-0.8118287716452384,0.7923481242574262,0.6703549672050788,-0.8819590383222751,0.2115716276736023,-0.5982516960069703,-0.3503743340958183,-0.09390401761111558,0.6422771497142943,0.6851291131989852,0.21722605991478589,0.9971210669195458,0.34562820844626446,-0.7983958636947945,-0.8557847781115994,-0.8799447063834024,-0.2497916631915897,0.8757188932537784,0.33299482160006233,-0.766666393045595,-0.48899542394973866,0.6828963238138983,-0.9385895689298578,0.648477173271745,-0.6468675288512291,0.6554689273738763,0.8212997468109707,-0.7257527462841098,-0.8123160519100447,-0.5835648789865197,0.10790693700714238,0.8116477735152345,0.7858274717205275,-0.9302694262815041,-0.716654154221713,0.6974894453509728,-0.7911315984863327,0.43403956641844377,0.6874098173815789,-0.4486450435408128,-0.7223451069559799,-0.27622843500938354,0.5558758527197213,-0.9910832316173004,-0.10031995155981013,-0.20609476987976244,0.6192481114176228,0.6979454579229012,-0.4946892602451987,0.3873190381318419,0.7559844623242203,-0.49722204750830157,0.7682011312942406,-0.5534597253881934,0.4813496189455995,0.6647527409300925,-0.6624701219869784,0.7650846941835043,0.7128192579310191,-0.8428096344483065,0.17407208525281445,0.5990759466678244,-0.7197276411450515,-1.0061663005381225,-0.9971107929501395,0.5874002213540711,0.40702426527505,0.7640073943602208,-0.07161172163926315,-0.6607082312142131,0.263888883747822,-0.24452317833985326,-0.9873858265036883,0.807619657844094,0.7306449507139573,0.7617869365020791,0.05978691464842702,-0.9148882113968545,0.931719733284078,0.6071538322935627,0.8493372512632257,-0.9761922450865274,-0.7357921248214533,-0.9407768102110314,0.17424127225042269,0.3821169139003354,-0.588134592400394,-1.0008928929443797,-0.48632862542379246,-0.624255175395348,-0.18646871612280283,-0.37933267206333565,0.7584163304280673,0.624066011039707,0.5954454849144325,0.8796308842269226,-0.7549985872077491,-0.6201897373437034,0.720559539440933,0.09723271820725066,0.2596915538601415,-0.7697582180750264,-0.22439451722375583,-0.26360755817659864,-0.09786635947459253,-0.40222166059869957,-0.8194764216970235,-0.5712230535884553,-0.6835680975650191,-0.7354605406704483,-0.17872629266124893,0.9584862356224703,0.19156384013358452,0.7901120040816277,0.992741861487966,-0.1499791681364709,-0.991203913915241,-0.9786599730648343,-0.6325265134513188,-0.480964014607716,1.0092487197016786,-0.4269059776842921,0.02326637149970659,0.7540490712061084,-0.31259923115754934,-0.15502690779771566,-0.24501886449697377,-0.1266436176342937,0.6040741524126763,-0.8169467708824405,0.6228936251358604,-0.43062911404020554,-0.29260474452317253,-0.8037911126554323,-0.8949873271543435,0.3906338379044539,-0.5054606483939034,-0.8710321364969477,0.12092253343460721,0.5663806440410142,0.9393839605627269,0.7265583355467864,-0.6093334388081353,0.6080003948471046,-0.38600683350769655,0.297621520645476,-0.4920608491297307,0.41530140640860225,0.9844440164610381,-0.48573231052569227,0.6686330594537258,-0.20605603086734067,0.46745921343601454,-0.45554550808837435,-0.2697768475250158,-0.5149394147366386,-0.3728418318213345,-1.0001628139747973,0.3104657144436227,-0.6671184709359137,-0.7652643549891498,-0.7926472285871394,0.758153351719309,0.8145491310460091,0.2106273078818841,1.00957301665639,0.6758609572721133,-0.30626188875146504,0.30324930421194946,0.7234568327669337,-0.38557372826250175,0.7988724538706459,0.9696522016489908,0.47424163810422637,0.9115459564526952,0.9147614443657565,-0.965444867436195,0.7447232428382183,-0.755273279500638,-0.5149014738407741,0.994266915478648,-0.8266175790204949,0.7969802584666505,-0.6717147158568381,-0.7780605796254026,0.19865606126003374,0.6210944669432701,0.5752739315444161,0.49805594047642615,-0.8856372166375817,0.5184557888364212,0.7981270496920663,-0.7223378932483403,0.18763189363675453,0.2626749980468346,-0.6194859781756621,0.7810481868875122,0.4022548044867439,0.45657769769336765,0.9824677419233726,-0.798256961558539,0.9022345480402174,0.35113216527958696,-0.9882389272954257,-0.21579997084953115,-0.05813586438754108,-0.6551995218802302,0.059757434909954235,-0.0635302522191428,0.07581065671079121,0.9908055415867804,0.0859512526789193,0.24132596013788984,-0.9986065740637874,0.7654816328008485,0.9726021219054892,-0.7871736392073985,0.20897686931180165,0.527940321487245,-0.7214620646426309,0.3731360478777603,-0.664785595712366,-0.9808317704055098,-0.8807958883199615,-0.8803155665332296,-0.7429595431785107,-0.21060591149735364,0.7938507016467081,-0.9484703632845958,0.6506195956909565,0.6284138711325515,-0.6868702859819181,0.810406036639553,0.906619914304222,-0.14973959991112964,0.9214368469537633,0.5348574589085872,0.6090079781003359,0.9806063384650121,-0.38105600592113953,0.6978439416591408,0.7398652760715765,0.9520359155060178,0.5574670377109125,-0.7555295288746319,0.629686145646182,-0.4782734946524623,0.4853443528220297,0.5470659772519871,0.5302826370673918,0.30193430953959616,0.7434843234415139,0.41143397780641905,-0.6763123176355788,0.7748693670369871,0.8457410748217085,-0.9680609072383031,-0.2863619435035512,-0.7793141333720064,-0.8696701838052397,0.5479991088042575,-0.2710451154393723,-0.799780031199777,-0.02543253280348157,-0.7423308947575856,0.7948877020996659,-0.39791006470240325,0.9937814480113258,-0.7085862133830171,-0.09289006260861919,-0.6564477031751934,-0.7021132944209203,-0.7485923115060403,-0.01796849825246501,1.0052436274725292,-0.6788738845355041,-0.6685497410594922,0.649107239756387,-0.015557210102112109,0.7393293128332449,0.9626672071611737,0.3420556904311165,-0.547111776953567,0.0030268534899599198,0.22026853808906727,0.5248190021506299,0.6293266781226411,0.26812393406752727,0.4195611085600087,0.5865578490502064,-0.6424296982156334,-0.9665905773152561,0.2059018887396527,0.6444509759500571,-0.8692194174815907,-0.08523372941430989,-0.8181665850527742,0.5934073536761082,-0.5644326086758287,-0.24183808803689266,0.5679989166864904,0.42941330685925916,-0.13282502597059567,0.8037423011388087,-0.46566657170320835,0.9280279142715181,-0.7738603082958125,-0.7533795166940396,0.1541561782014916,-0.206457978343913,-0.5168113927313404,-0.6729492839935484,-0.19122973340519586,-0.5716548211893295,1.0028433103231755,-0.8034926133431832,0.9501485434996653,0.5975645385310424,0.3411287914079982,-0.5643714411125796,-0.9640029683793371,-0.2551940175119548,-0.7163959200902933,-0.9835721814171758,-0.9246989091851364,0.4357910702264633,0.7711172879480728,-0.08501820236634162,0.7990928881684136,-0.7735568060566643,-0.6914337734783181,0.8645472643952623,-0.6264420834131686,0.21503160706565574,0.3588634400099818,0.7470995247476032,0.37311982253563236,0.7355014170241995,-0.7981919621230962,0.7943604991711454,0.966942637831253,0.9240276077181779,0.7055340764089397,0.7361461174042685,0.07891195950230079,-0.6088655525070672,0.4683829241155932,-0.4679847961729703,0.7896363853217743,0.8085890645327067,0.7608570720119504,0.41991323218243626,-0.7372128665418445,-0.9731410699838218,-0.5488008588118716,-0.7019287706251819,-0.5111629245523137,-0.4087861903562788,0.7732165638815699,0.7743755307437411,0.9754133397605572,-0.7261514705877181,0.9796377377253138,0.5172436772702487,0.6562026930046485,-0.09355906105826023,0.49910910505975453,0.7231344601489748,-0.13792685736202656,-0.9559563605782497,-0.9173529425896744,-0.1845695189630301,-0.2544246319183502,0.8451609020724186,-0.9241776707530629,0.9961097572485181,-0.6651231210998058,-0.08228298814299323,0.05431368187678992,0.08288928930093048,-0.9371961101641919,0.48944957915685655,0.745925894125906,-0.2891198703396519,0.6785036021083102,0.4199272540587889,-0.0681520575037136,-0.5890189942542102,-0.3957909575613979,-0.45055241259293843,0.38445922178101843,-0.011977182098229636,0.22457554945203778,-0.45463542648065164,-0.9766800884288303,-0.10927687177794003,0.1183803371380932,-0.41685318236530455,-0.006223781949908215,0.4458785357001133,0.60618952821447,0.16310541385877644,0.26886226394989343,0.7130313540566766,0.18223489909354365,0.2636213369373241,0.12329172502982891,0.49908130605264556,0.7526733583700329,0.8634172256677112,0.39738708899524755,0.41971735886296757,0.521604677708722,0.4389269317530434,-0.4485614169307097,0.7921858860185659,0.4557286333597795,0.5491187857600306,0.1927040142625433,0.31302850548051453,0.15117746771387444,0.38925735355017327,0.9627257970675167,0.25652354840349517,0.7237603320537966,0.862327251994519,0.8658218955549599,-0.5277762888975726,-0.5071193235035388,1.0107635659425052,0.022039245626592537,0.2631808566083948,-0.8118353651893699,0.30373922573248807,0.578945334644446,-0.6075299736188065,0.7587542087155225,0.49080623102107696,-0.06134654574479492,0.07233782099020113,-0.5386520184285265,-0.5989285278254808,0.25223767198655694,0.35364570794533123,-0.6824864958954352,0.6912815913222572,-0.5367160219526045,0.09195890054464338,0.6777572769558915,-0.8051976156851726,-0.9951171662662774,0.6928808342124088,-0.47928290032365223,0.9893113164201994,-0.5990004759722111,-0.7871147456864133,-0.9498378528268343,-0.6410229343972369,0.7826144326601462,0.953943473340852,-0.24076656819254777,-0.38785225572353493,-0.12984343488937897,-0.42873470396653846,0.6508507821410997,0.6404271100463195,-0.41556196636486586,-0.8350797013863516,-0.03253379141668106,0.3842660658017105,0.6107251805649333,0.650113349373076,0.02386729749698711,-0.9171963078016427,-0.29220393828287994,0.6608715277954227,-0.34824765721656303,0.590959971639784,-0.7754769631576048,0.779295772276956,-0.7212701446232801,-0.9549977512759278,-0.9714696055656983,0.9683782597239194,0.10398742300147976,0.6152825619359529,0.7985752979320356,-0.4824193479471708,0.34132619943090503,-0.0042279664917590064,0.11020091649329736,0.9375254619477771,-0.6004212822251087,0.7522560940028097,-0.12753851044703368,0.3606217825106856,-0.07011385262197509,-0.971876312338174,0.8490153748714362,-0.33283372263101013,-0.7701859978603823,0.8178660612763616,-0.4022355915091368,-0.7849417222349024,-0.9686071826198761,0.7512147654973638,-0.4718821920154136,-0.7793739927625851,-0.41935920491520884,0.7335429482936167,-0.3026944293410258,0.005938902164723253,-0.7118882902468983,0.7938325049353,-0.2739821675312973,0.4867237425185888,-0.20828276345223248,0.9417232273315317,0.2930209141318679,-0.00509195240485459,-0.6236653280168499,0.9522705797778878,-0.5797236677795752,-0.693809238162802,-0.6088738152587282,0.3941006447725023,0.7054100154633597,0.03318363008212741,0.889544733078822,-0.5852558841498222,-0.9999020696288203,-0.44771910222850336,-0.407250783636615,-0.797029814946168,-0.1607190604021343,-0.3498180728513813,-0.8904462793130753,0.21890837174533362,0.4987927687353443,-0.8129706573706299,0.9877692295292826,-0.020846965818602445,-0.6088349208653162,-0.9906836816726566,-0.31226770881319516,0.7121863215152434,-0.7254933236598309,0.12798478883729314,0.09681793963128066,0.17109887358625403,-0.6226834292238089,-0.7927089534948595,-0.7738370244039267,-0.6982911535256475,-0.7645366174859717,-0.5572926646012416,0.7697394317647974,0.7860568414516738,0.7986748316414551,0.8672367647428026,0.3304451642746042,-0.39576955394752017,-0.23983521153170756,-0.5418740132884113,0.9709117261533626,0.7903197901791885,0.8343773934591582,0.7522646153275134,0.5869484089647619,0.778038284063668,0.649963874666648,0.9696186025150251,-0.9154267526785781,-0.7401765964147239,0.006327068623501483,-0.942743023624521,0.9548185206147786,0.679234908882817,0.7040986464454249,0.6459885159477307,-0.14611322951581937,-0.9742631177905476,0.909055409129583,0.7289808828831085,-0.0003019884446490567,0.9368389578868572,0.734260178569184,-0.24339820987406474,-0.6694389219908586,-0.34847143864449004,-0.7356614122750641,-0.22826710729282476,-0.10167763246088367,0.8041413631495392,0.7584639368159865,-0.4380999430374342,0.4344577815224754,0.7414661615701587,-0.46657629537667933,0.3039685722423096,-0.31696307959412945,-0.6511214483540968,0.7943743382142859,-0.8080654252887343,0.1755188441801231,-0.9689912289283532,-0.5707346009617967,0.2840549591371528,0.5301054448985242,0.5440885084567991,-0.8004597000791714,0.3766180712346999,-0.7448424731109512,-0.45648194797085895,0.05728899131015097,0.7853540914274489,-0.3185478444035775,0.329246257981784,0.6217001735845566,-0.8556936540726023,-0.3065970021617584,-0.3152904936668926,-0.8015554158560406,0.9823364686447491,-0.6027899484952092,0.9090194684200466,0.8218139677637946,-0.25880775876064865,-0.9963708550205891,-0.7666815194150084,-0.8034687100816839,0.5018516463373519,0.004858863488478285,-0.7769626352486685,0.15615035372315728,-0.9953065988848161,0.14865887370667832,-0.8307306174124642,0.47325666603946853,-0.32349755809535446,-0.7041112857328803,-0.1475003391752776,0.16717791290335,0.6591531580998409,0.11437921783501939,1.0003098049299979,-0.2743044787712622,-0.23750906224704388,-0.7242505523051848,0.5271643728906539,-0.7964687455958487,-0.32004657290915384,-0.3417630436497402,0.8884852907670098,-0.5826348255597114,-0.6894395077018244,0.03210112400242025,-0.21251651625266701,0.16193514287193686,-0.23247317424386826,0.674736067362015,-0.7881989090360892,0.16083585634626735,-0.9340270345845103,-0.8621593457502605,0.32356720660257887,0.035898077923680584,-0.6676255111643469,-0.8335128960002247,0.7202648690769934,-1.0002862026243802,0.47896976239360595,0.5098606741780568,-0.7850408396169658,0.2872940894390524,-0.39394966873108644,0.12026011412307912,-0.02836942988602763,-0.1266696101093307,0.32176601134745875,-0.719651050326426,-0.7725007113941429,-0.7973860553996397,0.36027585980988835,-0.9434106184795225,-0.1564155975408262,0.3791410389591569,-0.7901963876322252,-0.6185385082129052,0.41740994996983827,0.017339679878851204,0.00022138344670542126,-0.7952877066698323,0.13552768197290066,0.7503316100552894,0.8105768344570352,-0.9720456867557133,-0.5157296998676281,0.7269592471872488,1.0007699860417083,0.15825606695244754,-0.5859312437113962,-1.0028520684943394,-0.0746762650384439,0.16537096618880853,-0.42476425916793,-0.029096717041556162,0.7735994811010147,-0.32505534617819043,-0.9675587102544249,-0.731281703329392,-0.46557806769308,-0.6552601080775671,-0.21253541243674068,0.42770222134649155,0.2192305816105006,-0.7135854849019495,-0.22726030082438942,-0.9971313757632824,-0.7899373230880512,-0.020877800267997657,-0.06490034003877647,-0.9000527677275378,0.02310216387578913,0.11406395293537624,-0.9494752562416408,0.674285253848025,-0.5765382479834359,0.9486205493474542,-0.33794072420174326,0.7756864201514643,-0.14397673498753755,0.7819174127186147,0.5110025193840885,0.2875492055462452,0.06563235275295765,-0.2010091856401633,-0.6356520541639711,-0.19556376372377654,-0.28119681073589814,0.6132110823872903,0.6730400561043758,0.442114982795416,-0.6690771617956671,0.47912388606390854,-0.991650366973174,-0.6460831200797463,-0.4139969618431946,0.7639296665585463,0.8995276747713947,0.7094606274554884,-0.5139502962334962,-0.29076650472117965,0.1478975600330515,-0.17493799128198728,-0.2752347240797979,0.6057162446946781,-0.7889808975550773,0.3697519968331418,0.5676070585189297,-0.9918478907433725,-0.7968097117700638,0.46870910274945976,-0.5692501803077037,0.8786282395412839,0.6289672301415665,0.13629461596047188,-0.8447082294662798,0.20505039614357246,-0.6760998672522691,0.27141367524534193,-0.7840815328427438,-0.2742173426653264,-0.9228210948461043,0.9852958119023856,-0.7771463790634997,-0.16860048699256208,0.5140726775937318,0.13417450692829097,-0.7771342983276976,0.6629216208433091,-0.776107923003345,-0.5306704552653865,0.3174170682026759,-0.6172775332886022,-0.7748685236127637,0.494136977029626,0.39388960453239374,0.796138437232394,0.834686179733239,0.9147246354089152,-0.7511254693584722,-0.34958119769025847,-0.796360699019091,-0.11764205729364283,0.9533610087802638,0.040710627556057484,-0.9674884550881582,0.9847327048012738,-0.762719769265066,0.030375048630971374,-0.8984357955226021,0.5266132694790228,-0.4645754695577394,0.189087008962743,0.3309611151633961,0.9950815552674667,-0.1480398464445042,0.7055514178558497,0.9523505905409266,-0.21355850188372724,-0.03200538041718859,0.7480069903931389,0.7845704628013733,-0.3583732936153675,0.687417321737987,0.7044727264102134,-0.5610678133334897,0.9954389762695203,-0.3840054311290168,0.8709470885897707,0.9819598505382895,0.060826388649208876,-0.6963138543930908,-0.8132614996765359,-0.9055641390130974,-0.7032719456637029,0.7933875087339193,0.037893460752141395,-0.4576477863943457,-0.7815551195936428,-0.7424412009410373,-0.7552422735255203,-0.8542918423936856,-0.6642428138425124,-0.9961553040524249,-0.770385552734752,0.893407013006273,0.8450253939904258,0.788964845968755,-0.5351398777289149,-0.11793224729939471,-0.9784837948932679,-0.8233757962128491,-0.41898232713110534,0.6120882158289851,-0.7668947434316927,0.3348161839177354,-0.670680701638693,0.9700679371197379,-0.5050957377504958,-0.7773760672218542,0.23540673765020423,0.5627736644894787,0.16859548594579088,0.9888384695856562,0.5538348214777045,0.7621469673823112,0.5857316834089408,0.5367025771685324,-0.845161768254758,0.9120792433109478,-0.7458593873160043,0.807859927557452,0.5921805030002751,0.844084054317637,-0.1150054884249827,0.4310187519745304,-0.4457614239237155,0.21879934604099938,0.5516514626843558,-0.36922224772283924,-0.7615324772710477,-1.0022552212291502,0.9898513474739543,-0.7006017568258791,0.26398822480308404,0.15038366456187566,-0.9428393914281793,-0.48465203155010333,-0.33703160276013755,0.7889747652290797,-0.19162306355984723,-0.5091188364132536,0.983933820208,0.7608623332995973,0.8131597694146303,-0.4185963370983921,-0.9979840163697805,0.5418045656576023,-0.017177940958082755,0.5773319919227914,-0.5438529969872177,-0.6988951937027962,-0.7278783793877354,-0.6574072524094686,0.9564397565191228,-0.5224352798291731,0.7867878947901956,0.7538728390921131,0.9496189084217972,0.6006671439624008,-0.1961915797918307,-0.7940045341327042,-0.99832700337782,0.95843805912594,-0.7127281087862236,0.87117981223474,-0.4472273185905751,-0.9366086055688326,0.6687816338806345,-0.748968499538163,0.1324095978013891,-0.6057618268277292,0.44557312071030253,0.9977880475048464,-0.38962548914911466,-0.7811994017620412,-0.756971379978887,-0.35957070166662675,-0.07316069522319106,-0.36654283902894513,-0.04300565101653128,0.3131470470026023,-0.03663268787549062,0.44540362127964006,0.8624625489775184,-0.5431966567831639,-0.8982797444162888,0.8891848983887433,0.06366132580918953,0.12109149951093835,0.9685876160705065,-0.6370613145833072,0.63318014972889,0.23901736452996095,-0.9719404710778283,-0.14557015449409447,0.6798185917051922,0.28369839241478473],\"y\":[0.21627571597827117,0.13782611364892006,0.12460506763546744,0.7135353512824727,-0.8985113123749144,0.6448320866600471,0.8010741299651828,0.1359930173405133,-0.787074612118061,1.0008106349674573,-0.5513148604035099,0.825815420093798,0.805379664888944,-0.2885589346946479,-0.5705554254615339,-0.7637311016108751,-0.3598935029272278,-0.7950046091261463,-0.1073628199354676,-0.7567531442667514,0.4580544340061386,0.8288125212695011,-0.9979164078944895,0.2702938412051824,0.47358365970910626,0.1914016593861938,0.9631559315924957,-0.1444648227626772,-0.7599188864477616,-0.48455211599706605,-0.9242429129581238,0.9873739777383873,0.7938604215350998,-0.004210385899853033,-1.0212739250427956,0.6343660135285908,0.569697696116931,0.7020497499262385,-0.7532574773426608,0.6639352638394574,-0.8117276180745704,0.935329896882409,-0.6948392371226849,-0.2515153611746893,-0.5789067120011832,-0.3386475505371167,-0.6762787743135287,0.7701730359321212,-0.7018380479832286,-0.7131165106997539,0.6149202275533362,-0.8121810157368334,-0.13936242961828274,0.6460276669536893,0.2901859555564573,0.366479196104181,0.7975433733945739,0.12682609919902904,0.36315468340071855,-0.6148602279846763,-0.5574653912802692,0.6010978477202068,0.39049216053173297,0.4947643595296801,0.7697570983828955,0.538087141556718,0.7018077491599135,-0.7955849466451368,0.7627865713530545,0.41185146337047673,0.9672437212870982,-0.08915464801061536,0.7133290547663657,0.08799294738324923,-0.5130273393814399,-0.4681763770899537,0.744321535071229,0.46133037534309934,0.7371710705957241,-0.6647488098435049,0.6052387707842366,0.7233828739047562,-0.3307157712453559,0.740491923074593,-0.7545609632424695,0.46727560137605245,-0.013381503510531918,0.3455111829806536,-0.029143971913407268,-0.8180139610753324,-0.988957693345242,-0.5723033292959498,0.23406649476647157,0.3964766307330256,-0.3506406403928891,-0.7440062389827513,-0.13803286355125796,0.8996516442499236,0.7035512867351148,-0.66190917846239,0.3139647276155403,-0.9579100811315155,-0.5744568519448358,-0.09051860535779456,0.7871040727937687,0.7871766083330263,0.5045782932886858,-0.3975303959623945,0.8570540096673621,-0.6951425473561016,0.2810402896333191,-0.6258974938448209,-0.1384636996424156,-0.5922729460766261,0.883487283123824,-0.7480647611390041,0.748135215867311,-0.21203213207592547,0.3309214157212495,-0.5238361534188358,-0.7839472226142127,-0.8098211521120375,0.3675717469977164,-0.12032290012913084,0.175416433487265,0.5416160937050165,0.6718418877911267,-0.626988530655824,-0.793130491531088,-0.46437316722539296,0.758148816127033,-0.7645129618970966,-0.21222743037658293,-0.04709379598874927,0.26754351297065915,0.6453605691684933,0.9899788592616683,0.4152701719867906,0.29694303605848366,0.7931146645011904,0.5169187815311211,0.031051213534467877,0.3013405885484778,-0.37903946588106546,-0.785610742194855,-0.7120616861121953,-0.549318833699204,0.06359110345781134,-0.6185454363242194,-0.7822278280772462,0.7725852975999973,0.9246195556365839,-0.22636843170160953,-0.7726242978054604,-0.529430149957765,-0.4585325076351064,-0.6879062111253128,0.48478085255821424,0.6844643251831882,-0.8054973163743476,0.7351189562891661,-0.1661743374274749,0.7525734743759875,0.7654706985625983,-0.7906362178478098,0.6902381741940444,-0.5601188789887451,0.563497103967418,-0.7049921368754978,-0.6797414848545813,-0.9928999244019981,-0.25589195111428154,0.9862913710210731,-0.11019808503592605,-0.18991698957176906,-0.9877521832566462,-0.06374680229919767,-0.11072008062919654,-0.49035803572900666,0.6356718594210993,-0.08974174800856888,0.6795474638853864,-1.0037308475163704,0.2585012805394459,-0.734171039099969,0.9899297717115818,-0.9738412150017608,-1.012467103720733,-0.5220088039441797,0.005987903139719296,-0.48812164137055813,-0.6601493430411474,0.7531672037144886,0.5864353967701843,0.45471589111306804,-0.8986398030864352,-0.8595923278779654,0.49693199082463446,0.7886273697630277,0.8271661409127864,0.35612262987150206,0.3383228688960943,0.5171645926018524,0.5313437478738603,-0.702600523518873,0.7523771996354846,0.8758090149473726,-0.6935953201239049,-0.06595149821367853,-0.6413964782106009,0.7346156380467731,0.9898125747510604,-0.6474674859638029,-0.6657076750037447,0.7388625269305282,-0.861930771255326,0.710621702787281,0.00685599268695666,-0.7402183729124274,0.40267253041416057,-0.619607738844436,0.16014458674320503,-0.24807497995479175,0.5702539325659655,-0.7829316388407801,0.031363193509883515,0.415689870755298,-0.9590419694512153,-0.743883896678372,0.35650706412431915,-0.9141871070166103,-0.050759989712357866,-0.22332621475641243,0.6690386657417289,0.4049519296745701,0.3744861131463389,0.2477922413991196,-0.3596728619382578,0.6735451250380241,-0.8582806433125678,0.03980613237373847,0.5452870124434622,0.14875003266641235,-0.47107417019816994,-0.627038590544143,0.9976633445139133,-0.7762409270212743,0.8253253436726943,0.8576456723315932,-0.42934560569336017,0.8506705533828343,-0.0932000076887198,-0.37706737424948095,-0.766681371232988,-0.9561697907288287,-0.7907981652258801,0.18833074984767786,-0.7086046643266176,-0.6715575080185914,0.06006655982431528,0.1917409365414417,-0.41344242235131184,0.924813894281994,-0.19450333630906516,-0.9623018636377083,-0.7978021134170171,-0.4408277742619673,-0.9942294665588703,0.7922176390638369,-1.00403433477401,-0.13568278220962512,1.000617512079331,-0.7607522955108138,0.00452534891821347,0.23887407339465896,0.14223391334515942,0.6317252615242414,0.7760648188639617,0.8444873464212409,-0.3239647573669496,0.7013375609988753,-0.42546642051872935,0.14086649823914854,-0.4810786887429653,0.47519621651452987,0.32900922818035383,-0.9635437938614282,-0.5949386998607566,0.28249546203533155,-0.4558763863420782,-0.49859758273581667,-0.44645269991481745,0.015752334960095912,-0.43076179732878356,-0.9892999434574193,-0.4016604101684933,-0.5996123090930099,-0.7707628139817224,0.0848158366949712,0.9237667462582178,0.3871807145065832,-0.6692073247201926,-0.23110068425289193,-0.8193347289356586,-0.2759136924920719,-0.4936519449686382,-0.888424453408455,0.6603229145675646,-0.584255807211595,0.6006737616363543,0.7455924982319713,0.28499616031672503,0.6709528616828284,0.4053771609006141,-0.603961911036117,-0.5491447845964127,0.2570838183613742,-0.9601140277983431,0.22387192143628543,0.4618026877960708,0.8281557595538035,0.9577703473492758,-0.6072934137580893,0.8008237321989204,-0.26241592009292075,0.06427336658561508,-0.9282049318135559,-0.19039035477933827,0.38407690560302543,0.9879427001926393,0.43989601167565506,-0.7019352456254627,0.2678941621705376,0.7866113558439428,-0.007349104144777995,-0.7329777390207223,0.43637366959202695,0.448178005434195,-0.8162846875000909,0.31307809549556015,-0.2927423027232409,-0.9534600067084023,0.8416363905606462,0.994658516503119,-0.9659982782896237,-0.8514409117496203,0.4843688858987147,-0.7506524984131763,0.9118407831144119,-0.5538372178899594,0.7836210705077067,-0.30937626258983614,-0.7554011005277572,0.7797108494336354,-0.4995362143686826,1.0034530361094818,-0.586972483864803,-0.8194070546458979,-0.828484685614448,0.9575602926525248,-0.8157318158312613,0.6877328410013136,0.9943681288513684,-0.5841684864382368,0.8881151860347939,0.33574546215665135,-0.23040421745464695,0.6636666469715232,-1.0026961371848855,-0.7781319614204251,0.8513071505671784,0.4286459309248383,0.9869269735579234,0.8351956251007953,0.08132274666074767,0.04786886825256056,-0.2764820960845808,0.8071210838037224,-0.7221566696224113,-0.5672527525469141,0.1472241862768322,0.9738800924576855,-0.40225899343949933,0.18978684785404612,0.3686644368691357,-0.6652913733146661,0.00293269314133503,0.9882007902048358,-0.11309157306265825,-0.23346136061780245,0.728342057859387,0.48861802998529974,0.4950855214603787,0.970988838700654,0.707785822507267,0.656180314062036,-0.9068896652002745,-0.6681014723075721,-0.06038726285777336,-0.04186256467770592,0.29387508128442263,-0.3952844517057407,0.3748200086819186,0.303671345129741,0.7889424855039423,0.5064584549735672,-0.6415629778682577,-0.8732358379851034,0.5975040979309533,0.061651903853089565,0.1553185268102789,-0.698226075487532,-0.30175233779511146,-0.18623128263047997,-0.6008201471698115,0.3946164353112372,0.6155458959279564,-0.6780263324198803,0.1811005606842574,-0.6172327591214654,0.24149204700623086,0.3415238616285909,-0.21655531308093945,0.6163892178373536,-0.7592203261410551,-0.9833728685610601,0.8595628823163365,0.6865747790453732,0.7981446812461581,-0.2598403466541442,-0.4308039164341788,-0.9915434592264324,-0.9531353679610107,-0.5247887105590251,-0.3266502074243272,0.15615988085269317,0.757843474740682,-0.998237310728783,-0.8105400969432598,0.7742129259183708,0.33429653777525425,0.6257161827320488,-0.29614527285782827,0.7601170883258422,0.4313204207813358,0.6778848713943251,0.7945603850656179,0.808911475205753,0.7060743480842321,0.6591291946776854,0.700186411537913,-0.793968246288725,-0.9894462342512909,0.8953725850053224,0.03588442607438775,0.7956733424061931,-0.787456272482566,0.6897978720249058,-0.9952191000337255,-0.8940376590093684,0.7922998538459547,0.9844236251270586,0.7403873491115421,-0.3620981063728002,-0.9933894845937846,0.9799297452831913,0.9793983438843678,-0.8721268554381424,0.22627238922332016,-0.5110523287528096,-0.8955340130854333,0.9077321171231164,-0.6221405722705408,0.891047630216162,-0.8852513987082524,-0.1270598451712437,-0.6511562855728191,-0.5871885128558697,0.7831450298625291,0.7493095641101227,0.7811588118426052,0.9318975513348973,0.1457996570809327,-0.9742420633765905,0.3209727196146098,0.5007849135595847,0.5093907822976915,-0.8482949417343931,0.8665400469198001,-0.040732421481652355,-0.8193104585278175,0.7544735295664415,-0.07200614969001341,0.9587709062143118,-0.7998640012492527,0.7843389800523293,-0.6430382487438586,-0.8562787568571183,-0.7989378242942682,-0.8006914278330026,0.6148015451401395,0.8017714905090955,-0.9795617847121233,-0.7252585794685191,-0.41033657691118797,-0.3943274976749413,0.5877993629336541,-1.0041793188785686,-0.4044586560218542,-0.010193027289257962,-0.09916146046566278,0.35739748114983305,-0.8754333694647095,0.1883488135353158,-0.8076071076201277,-0.08948117326817931,0.3503134783483981,0.8026102115536098,-0.16612662677439508,0.26979928707490974,-0.9770500827913605,0.6916512433533677,-0.7610196441221662,-0.9033038973302531,-0.7443274628855124,0.47003381724943144,-0.6917185732285905,0.5769757093811878,0.7880776544633813,0.9209695484447392,0.5333796253111119,0.7536625626370765,0.8054563502068662,-0.41947994151755374,-0.7477454149407072,-0.736563179844611,0.9438480126631736,0.8086978094285139,0.19159332523865552,-0.6188785134763726,0.7025959960352338,-0.25578726535772983,0.16934163567693253,-0.16063064715532657,1.008635236526027,-0.5199011683722407,0.11826225671453926,-0.6460363833261489,0.7346483852462822,0.9956434873333486,0.9984455654011545,-0.33797671522231626,0.5328776520339342,0.6449538611424201,-0.7888846749414002,-0.7126607579444575,-0.9971007946751894,-0.22472102917766987,0.5607177670464442,-0.9496508244157668,0.6347548426285463,-0.007813279125784311,-0.6901825803400139,0.14306037637575492,-0.15912931343733544,-0.6761385200160576,0.6602732946732299,-0.6500918602758957,-0.9001790852958677,-0.33989927375973494,0.9507574581556187,0.9796243055264203,-0.33712201375385553,0.6002237816183362,-0.9497763481044071,-0.6338368729966819,0.9693674603168407,-0.37933835906542573,-0.9496218979702113,0.8077753124081495,-0.760387782765251,0.23775746671991826,-0.5534337349650401,-0.3787283314649792,-0.5244671672899998,-0.9137280294786575,0.36020793403573964,0.7756514706672868,0.470585836689101,0.808382533735506,0.05336486561488248,-0.6602598746740058,0.6986446022926261,-0.03702566036608147,-0.7870820531811047,0.9304641752840923,-0.45484092959639816,0.7677360786703856,0.6069913343740696,0.0780732975837306,0.20336759770784657,1.0086755464201749,-0.7841439237969028,-0.06928383264851729,0.7315144438247886,-0.3493319794060498,0.6961821936082384,0.9985340066640934,0.8217643920729764,0.7704260476633674,0.7669931120272545,-0.5956048878198904,-0.10141565216942243,0.3851597015499154,0.2740843380542027,0.5834765176624804,-0.23270074438091432,0.171039079613706,-0.15365654786503033,0.5368972187997838,-0.7299283430551676,0.8981543382020447,-0.7845701830616744,0.825127437117436,0.19301587856608152,0.11030091509710084,0.561493648191681,-0.25782083063836475,-0.549442582632267,0.14796173621437642,-0.4511285450345675,-0.2703120793740324,-0.3921449725872628,0.3065699657456463,-0.818327271842884,0.3072022110791556,0.3362568472530042,-0.4425392006018031,-0.7176834058608544,-0.458630011113788,-1.0125529418875383,0.25777269480302334,0.4434738415913186,-0.34230651559167846,-0.9883500803491765,-0.39711893081597466,-0.3147357625697108,-0.7544792497779046,0.4296676353201501,-0.7345404708344813,0.6421994498085375,-0.7649788174593284,-0.7794958966557997,0.03860816128061715,-0.31127801133806204,-0.6864082057971416,0.6843566562319652,-0.30821201394266984,0.8869095558788997,-0.7204804802035187,0.9507862031652682,-0.46350376150985717,-0.08242555004812123,-0.05453398197936905,0.9829508924126874,0.30917474566889136,0.5549824372763729,0.9501936097034206,-0.8248031655761542,-0.8556154419812059,-0.011466647145208937,0.7010759285106507,-0.2904070582717699,0.6608586059643246,0.9936090274194811,0.6201494373409451,0.9561375325021128,-0.953596627953377,-0.5303288045690059,0.5026366043856074,0.7346974621740118,-0.7239082691213046,-0.12891456763748393,0.09171132258772496,-0.520329085882428,0.4188685261819255,-0.5783505944386645,0.7810202797970658,-0.02869553295845228,-0.6065860306585868,0.02743713367811635,0.6170927834114319,0.8021566013995347,0.1971077757621377,-0.7810828280177031,-0.14149389481382266,0.7741038844944236,-0.5529703875125379,-0.8718322592799944,0.9426290903950041,-0.3749165782768009,0.7616323481088334,-0.7903486529389377,0.4668592235781436,-0.7774499440938683,-0.15227013891760904,0.9720633371879188,0.9673044655772642,0.29208549804354017,-0.5989424511866852,0.102761451754694,0.7227692071755659,-0.9498301309108556,-0.4398170450437752,-0.8018604119273685,0.7143706232654403,1.011508727549353,-0.7651255782026103,0.7839326696442995,0.9742865942057711,-0.4192241453385298,0.6123752163720644,0.7825363561162464,-0.3503258042896836,-0.516633971897955,-0.9510256750269034,1.000114599633821,0.73884542249465,0.5596346357252564,-0.7089490223460331,0.057251681031098636,-0.8699730668954269,-0.6047262713843017,-0.14967366443759814,-0.7280306390032584,-0.6976949727824662,-0.7808843005522244,0.9858333117605891,0.7928123207287217,-0.9351687098133068,-0.3259059740346769,-0.18525482195218623,0.1505577336220052,-0.7016099957251839,0.3794982568658712,0.7744091205576599,-0.7008915542213697,-0.03043276864054059,-0.506388891545152,-0.6885709758342032,0.7950548653907304,-0.8065740391328501,-0.09081687019755612,-0.9829008924758648,-0.25589742047561315,0.07700414527444788,-0.22017114978306496,-0.6092703025160557,-0.6647479626857214,-0.05309114853649518,0.9880837139055304,0.539016488633237,0.22443966811180585,-0.799821645864982,0.765456521878467,0.6668215122242696,-0.9948589487950141,-0.16816113669770533,-0.7285416839769039,0.22802964217812388,-0.34480306829044455,0.6493542109372282,-0.7596281908597788,0.7592033557810527,-0.9063092812419373,-0.7809427888481107,0.395372057299173,-0.9886062795190622,-0.12674979985381418,0.036162562751278,0.7998975436925829,0.7964900792906391,-0.3892104980215176,-1.007155672292519,-0.9781356095697191,0.3228659574491616,-0.45292278839246675,-0.5736914833732019,-0.35815738082343646,-0.9319641937804788,0.04086952929938298,0.785855227621012,-0.13807976019172857,-0.6301063370278841,-0.7442328834797265,0.7982433839756033,-0.7813666955896095,-0.5002657743371212,0.764924727978887,-0.7333332064090214,0.5139489139663841,-0.3957705589460897,0.6673116984474995,-0.43102912201283805,0.8579495673034534,0.10656097817517303,0.4847860234123932,0.9159516969644913,0.22137007172201212,0.42802554941896287,0.3792265731874298,0.8253831948136455,0.7466328179303618,-0.7981512238810993,-0.7759105577161225,-0.7476686474905142,-0.5338183987566412,0.17117623375173827,0.9301902764141099,0.5634170813129281,0.1310541613483533,0.067856132596911,0.6495621111394949,0.5593905158211914,-0.49378500012188226,0.5099102417917717,-0.7914235305931332,0.5124806778951395,-0.9881100374784167,-0.41299866897183574,-0.9707569683534815,-0.1646337833182639,-0.7510024918611994,0.3872429383840218,0.034211713511610065,-0.17791255437774334,0.7876918153793542,-0.6286925065618698,0.7735526002922357,0.10773215891442413,0.4311383822500844,0.24753935127404364,0.5948587796295303,0.9628243982413816,-0.47581086859606103,0.23759423225775061,0.6322865678872946,-0.9291313069105958,-0.014610222564713844,0.5436205173713639,0.38111147044975213,-0.28069070066842644,-0.712427788348039,0.5840972929256949,1.0031885870566284,0.34022545320401715,-0.7941948320876012,0.25921517657835147,-0.15445639359613686,-0.24394523224643122,-1.009521427753772,-0.46707017533103873,-0.8493211020035886,0.6644076352923376,-0.9918378862417185,0.7379893703899605,-0.03648470438031835,0.9694849186983898,0.7049357350740282,-0.35258087659251824,0.7639283002673875,1.00034256584938,-0.22970391672669696,0.20698556022009545,-0.7246349081525076,-0.36609335244317565,0.7302643495787378,-0.5628620856245735,0.1842646772138351,0.9318431870006165,0.4871539164178845,-0.1125838329379443,-0.9893613553839699,0.7124153654198138,-0.13085849153797172,0.40902824851768793,-0.3797376693570965,0.6124782493910292,-0.8094459488775222,-0.8749400038687716,0.0205034403268168,0.3065135170988162,0.270622468507079,-0.538625525840657,0.4519372138798384,-0.004467461466982327,0.24535421315138084,-0.4513568721809986,-0.5422244402534376,-0.051213386523014416,-0.5983258553666858,-0.7980331656588161,-0.2380145515738246,0.5868925009718634,0.8928309299908396,0.5083059837261129,0.2071383622423591,-0.9356320658291251,0.45902484095715346,-0.30198939103470385,-0.6280502112321484,-0.22535772055102796,0.9693578983160034,0.5770412938119465,-0.967549123824998,-0.004046391743711613,-0.5758563865553719,-0.1806970258222507,0.5420630969130958,0.8482872822582828,0.5376837208764073,0.40624830142409984,-0.23473602715919567,0.09042612928641056,-0.7847297748697156,-0.5617595828837068,-0.9908433760267555,0.9173532092639384,-0.8824513669818516,-0.7721805486378996,0.5600116675300942,-0.9248016333151948,-0.25255036307329204,0.11144710573070524,0.1645337739655178,-0.7333586869301238,0.7559207522928176,-0.9895193022434033,-0.27211558124802954,0.8604513315358003,-0.7181822245420643,-0.08899454293944896,0.7692972779444499,-0.5934301670339377,-0.19518466615081234,-0.19688416193353941,0.04700884957567174,-0.6636762134775834,0.08165563980052631,0.5976751675676552,-0.7971513135650958,0.5594235595861108,0.5826590865344361,0.6861472768369927,-0.32327217254773616,0.45796867801783625,-0.3071745152355066,0.5922189654696621,0.10030751692819798,0.6658465099317754,-0.32470493361695035,0.5374551882996688,-0.7822289670716744,0.019763548238078826,-0.023480994009071998,0.2641413008994655,-0.7227064186339027,-0.5093248974030723,0.9101553854739874,-0.32561164099413475,-0.4186060837234515,0.661699081873813,-0.9920243194493548,-0.5313418505867316,-0.8879931282151028,-0.10438641399658652,-0.9185852958122847,-0.1732901485699347,-0.6624216659086923,0.7248719867111469,1.0054648854132762,0.7279555507834224,-0.7947399041223385,0.9442193749303314,-1.014561671865303,0.8941350418119011,-0.5095524669662412,-0.8513128134592522,0.44156612529209477,-0.4002472404255855,0.9754304089705484,0.8029213290706314,0.23571820094600604,0.4678158911710051,0.8006543142866412,0.9624628859974882,-0.2565843407672649,-0.793890476170449,-0.7418129311654875,0.9602893369503963],\"type\":\"scatter\",\"xaxis\":\"x\",\"yaxis\":\"y\"},{\"marker\":{\"color\":[1,1,0,1,0,0,0,0,0,1,0,1,1,1,1,1,0,0,1,1,0,0,0,1,0,1,1,0,0,0,0,1,0,0,1,1,0,0,1,0,1,1,0,0,0,1,1,0,0,1,1,0,0,1,0,0,1,1,1,0,1,1,1,1,0,1,0,1,0,1,1,1,1,0,1,1,0,1,0,0,1,1,1,1,0,1,0,0,1,1,1,1,1,0,0,0,0,1,1,0,0,0,1,1,0,1,0,1,1,0,0,1,0,1,1,1,0,0,1,1,1,1,1,1,0,0,1,0,0,0,1,0,0,1,1,1,1,1,1,1,1,0,0,0,1,0,1,0,0,0,1,0,1,0,0,0,1,1,0,1,0,0,1,1,1,1,1,1,0,1,0,1,1,0,1,0,1,1,0,1,1,1,1,1,0,1,0,1,0,1,1,0,0,0,1,1,1,1,0,1,0,1,1,0,1,1,0,1,0,0,1,0,0,0,0,1,0,0,1,1,1,0,1,0,0,0,1,0,1,1,0,1,1,1,0,0,0,1,0,1,0,0,1,0,0,1,0,0,0,1,0,1,1,0,1,1,0,0,0,1,0,0,1,0,0,0,1,1,1,0,1,0,1,1,0,0,1,0,0,0,1,0,1,0,0,1,1,1,0,0,1,0,0,1,0,1,1,1,1,1,0,1,1,0,1,1,0,0,1,1,1,0,1,1,0,0,0,1,1,1,1,1,0,1,1,0,1,1,1,1,1,1,1,0,1,1,1,1,0,0,1,1,1,1,1,0,0,1,1,1,1,1,1,0,0,1,0,0,1,0,1,0,0,1,0,1,1,0,1,0,0,1,1,1,0,0,1,1,0,0,0,1,1,1,1,0,0,0,0,0,1,1,0,1,1,1,1,1,0,1,0,1,1,0,1,1,1,0,1,1,0,0,1,0,1,0,0,0,1,0,0,1,1,1,0,1,0,1,1,1,0,0,1,1,1,0,0,0,1,1,1,0,0,1,0,1,0,1,1,0,1,1,0,1,1,1,0,1,0,0,0,1,1,0,1,1,1,1,1,0,0,1,1,0,0,1,0,1,1,1,1,0,0,1,1,0,0,0,0,1,1,1,0,0,0,1,0,1,1,0,1,1,0,1,1,1,0,1,1,0,1,1,0,1,1,1,1,0,0,0,1,1,1,0,0,0,1,1,0,0,1,1,1,0,1,0,1,1,1,1,0,0,1,1,1,0,1,1,0,0,1,1,1,0,0,1,1,0,1,1,1,1,1,1,1,1,1,0,0,0,0,1,0,0,1,1,0,1,1,0,1,1,1,0,0,1,1,0,1,1,1,0,1,0,0,0,0,1,1,1,1,1,1,1,0,0,0,0,1,1,0,0,1,0,0,1,0,0,1,0,1,0,0,1,1,0,1,1,1,1,0,1,0,0,1,1,0,1,1,1,1,1,1,0,1,0,1,0,0,0,0,1,0,1,1,1,1,1,1,1,1,1,0,1,1,0,1,0,0,0,1,0,1,1,1,0,1,1,1,1,1,1,1,1,0,0,1,1,1,1,0,1,1,0,1,1,0,1,0,1,0,1,1,1,1,1,0,0,1,1,1,0,1,0,1,1,1,1,0,1,1,1,1,0,0,0,1,1,0,0,0,1,1,1,1,1,1,1,1,1,1,0,0,1,1,0,1,1,0,1,1,1,0,0,1,1,0,0,0,1,0,1,1,1,1,1,0,1,1,0,0,1,1,1,0,1,1,1,0,0,1,0,1,0,1,1,1,0,1,0,1,1,0,1,1,0,1,1,0,0,0,0,1,0,1,1,1,0,1,0,0,1,1,0,1,1,0,1,1,0,1,0,1,1,1,1,1,0,1,1,0,0,0,0,0,0,1,1,0,1,0,1,0,1,1,0,0,1,1,1,0,1,0,1,1,1,1,0,1,0,0,1,0,0,1,1,0,1,1,0,1,1,1,1,1,1,1,0,0,0,0,1,0,1,1,1,0,1,0,1,0,0,0,1,1,0,1,0,0,1,1,1,0,1,0,0,1,1,1,0,0,0,1,0,1,1,0,0,1,0,1,0,0,1,1,1,1,0,1,0,0,1,0,1,1,1,1,1,1,0,1,0,0,1,0,0,1,1,0,1,1,0,1,1,0,1,0,0,1,0,1,1,0,0,0,0,1,1,1,0,1,1,1,0,1,1,1,0,1,0,1,1,1,1,0,1,0,0,1,1,1,0,1,1,1,0,0,1,1,0]},\"mode\":\"markers\",\"x\":[-0.7319444824702211,-0.30624392957974755,-0.972431012727543,0.4059175229637575,0.4446831406662825,-0.11262915903745138,1.0107635659425054,-0.45737533519806617,0.08061396836919356,-0.5141162593856641,-0.8818164131356392,0.16906972889147023,-0.7924296781680691,-0.7185673699166848,-0.7776820553166661,-0.9589675557779211,-0.22928197578888856,-0.02429120538983382,-0.521912685232206,0.03143848398360941,0.6902567752129758,-0.8442460147789278,-0.16096250464621467,-0.4323950734505693,-0.9231535562015818,-0.37107904950038767,-0.04559505507775419,-0.7394618858094127,-0.495948747909305,0.2571212009995757,-0.49034919554316586,-0.6609660179080952,1.0107635659425054,1.0107635659425054,-0.9098795838033695,-0.7853084536709164,0.07738260327069048,0.24043832523090922,-0.9199264639678849,-0.8765207812157215,-0.7387394316021658,-0.47664530493444435,0.3753411981099633,0.1014061646740602,-0.6937304635226889,0.18192376295372076,-0.3254127699207105,1.0107635659425054,0.6382298410716647,-0.5038556472708384,-0.8667774075174464,-0.7080362514541227,0.24053232825664753,0.1360339785391764,-0.0973592117297285,-0.845581395918387,-0.663691188984547,1.0107635659425054,0.3875620350059204,0.8128507369550656,1.0107635659425054,-0.36319494860782064,-0.992530746196303,-0.8801981062490066,-0.14934990783768243,-0.6859704679144953,-0.8013754307225052,-0.8946014751760166,1.0107635659425054,-0.2894503289511009,-0.9999233641411518,0.20063449009045273,1.0107635659425054,-0.610874262759051,1.0107635659425054,-0.5462767673476379,-0.4900234524379337,1.0107635659425054,-0.5543777050403744,-0.694101271305878,-0.8557437173576689,-0.9725356905227972,-1.0059382567084612,1.0107635659425054,0.6699875465118998,-0.28710752752731394,0.46128353092368857,-0.465795747156319,0.80539099511326,1.0107635659425054,1.0107635659425054,1.0107635659425054,0.36165333444051523,-0.22706977026418093,0.9297616406548022,-0.37167955703316313,0.09644797818634415,1.0107635659425054,0.7368956416185598,-0.33404327671943856,-0.4380205291355341,-0.7162573024814138,0.014645846690075333,0.4117373126799119,0.13633921485033823,-0.11477385625521956,0.38361452889488423,-0.9840215059620773,-0.1673642023659878,-0.9721010115425038,-0.7667141288339072,-0.95589694797713,1.0107635659425054,-0.6687473630553207,-0.2696504944087446,0.19475807382686547,-0.9825401673092351,0.07495370879580664,0.9443843598318677,-1.0035113877784856,1.0107635659425054,0.04743767550952134,-0.29864228131437526,-0.5663630760370066,-0.4404666777046357,-0.5304853826835548,-0.08242322798686506,-0.6632522519244466,-0.022590411143815894,0.8425240531897985,-0.5066977381219896,0.36381499005251455,-0.23589906137889688,-0.5700077557917717,-0.9304391898912808,-0.03540735518712294,-0.9444540090359062,-0.9973090214196754,0.5577174175417695,-0.14421602381043178,-0.9855064521547559,-0.09508425127536592,-0.9218667881399185,-0.09388464817725103,-0.8807346834446804,-0.6598094169805307,-0.8990472061944653,1.0107635659425054,-0.928386795424328,0.4788930565253445,-1.0052704478587369,0.4426908620066043,0.2663073576431128,0.13399963655640515,-0.8071398062611719,-0.3305766379266018,-0.12223018276218012,-0.8726449232114372,-0.17019421387268663,1.0107635659425054,-0.08263710039466897,-0.17550692246683008,-1.0059622675473725,-0.9197036835979849,-0.41101688108976936,0.3134208225271805,-0.5367366578201476,-0.37415725679083434,-0.9349376737873379,-0.10173943780864692,1.0107635659425054,1.0107635659425054,-0.7249790327260062,-0.1455359102705935,0.7956131427965478,-0.9791290905438794,-0.621983178995418,-0.7932047078329324,-0.48899979822434203,-0.7953862640540296,-0.4916593830437673,-0.5820637399452026,0.07893210816294224,-0.3217703670558422,-0.04641488698683635,-0.7150027065782921,1.0107635659425054,-0.7780538093398124,-0.5736666882858906,-0.43269509065696776,-0.045436245703703956,-0.17420068256104967,-0.23563247305598292,-0.9987852740327483,-0.4024238099093441,1.0107635659425054,-0.6288820371026519,-0.16516318908577277,0.020258019439236066,0.24258025765380276,-0.9689260807864423,-0.8260455031840648,0.6046865216923819,-0.09911921065743733,-0.9565829719460284,-0.5579271693994562,-0.9845703842771933,-0.1366454240436519,-0.5692140970277529,0.4844763749622196,-0.7759351189358651,-0.6443269205224439,-0.323957512006686,0.2297483567355488,1.0107635659425054,-0.3947703254363219,-0.5842590757856749,-0.9622697558082128,-0.7808495935730629,-0.9971519455867968,-0.6662742466474417,0.7502151518147075,-0.12608480950742706,1.000355754374353,-0.027712395094731036,-0.6739379623400001,0.9858475302320968,0.1590990358285008,-0.3135547569083044,-0.5260760819034546,-0.9680508679661208,1.0107635659425054,-0.08722266054427838,-0.900715427238835,0.5341186069916434,-0.8211498350660144,-0.8591453908634509,0.8994303328098999,-0.6606000596046862,-0.6670325396930638,-0.8031608672415608,-0.616657799656849,-0.6996053125763472,0.617438110494277,-0.6669163887383296,0.02994260243580158,1.0107635659425054,0.94509853443949,0.6731689235276692,-0.8764666681181748,0.5849211066284652,-0.9134853494398988,-0.7400685439019093,-0.923122271143,1.0107635659425054,-0.7641090119520125,0.1815373865662375,0.5750850605543915,0.8962993430718462,0.8463909219144905,0.0019303684009182448,0.11508333139649327,-0.9365523731341341,0.17296170254502402,-0.37692554092533165,-0.30288069707222276,-0.5670838743243285,-0.045755908477961744,-0.9177426012868923,1.0107635659425054,0.9590561060667107,-0.32863968473441535,-0.4356413566133961,0.5303521579823988,0.7888742583820614,1.0107635659425054,-0.8714905696037708,-0.5294521477903975,0.6962735011202019,0.20264022309952098,-0.8876520523710751,-0.3506219625978286,-0.012003044999428884,-0.3364882129185951,-1.0049121777549794,0.2604761243374772,-0.603532446071899,1.0038191108973387,-0.6718439333149349,1.0107635659425054,-0.029882943883827208,0.25506389791284545,-0.6003861390745397,-0.6671326637085245,0.1868487645104413,-0.5908940512248723,-0.46037015509229323,-0.2744094604229925,-0.9908373315130755,-0.8606358370758801,-0.9457493523971805,-0.9799859108250346,0.7960382410972756,0.19792055561349145,-0.37355568473810713,0.14537931048549715,-0.9262632555406006,-0.766607262858752,-1.0039438194388808,-0.8349891266985974,-0.32086537724687075,-0.2844299937187024,-0.039416352110371373,-0.5442351363601972,0.9982669888090492,0.08995496091821106,1.0107635659425054,1.0107635659425054,-1.0061570746985409,-0.8464420011593707,-0.9715662676867469,0.24859912738593176,0.5623095200535824,-0.6317493807326583,-0.20374847415147335,-0.915900449510408,-0.8080399170203646,-0.8545362560324102,-0.8478096727373661,-0.8739678258114622,-0.7666846179752451,-0.8238942857815922,-1.006085870141769,0.08731543934287621,-0.3681295604141055,-0.9589608729582241,-0.9898952313557865,-0.2997660595434277,-0.9178706985210849,-0.4575056501821582,1.0107635659425054,-0.4630493448208297,-0.9379610287302713,0.008541258152144973,-0.8542470614455211,-0.5885772418299069,0.1976311836066104,-0.9759270145290484,0.31280458375511827,-0.5615944997731944,0.9671831244982648,0.2025486152436741,-0.666598156412757,-0.7037134724901,0.553918145834013,-0.6430793622790031,-0.7155569666331643,0.6686802568711671,-0.6678159672375464,0.6133090741614706,-0.9083399922531683,-0.01272465830983888,-0.5347093978520552,1.0107635659425054,-0.5195583810789405,-1.002228996076624,-0.5804598040779184,-1.004920457354604,-0.8800881649939909,-0.784761763535701,-0.5120426336596738,-0.9623275947255907,0.021352130643071024,0.7188006949189109,0.4515720336839682,-0.6457518987578412,-0.04492705771928846,0.07854789038536111,1.0107635659425054,-0.4941627791302735,0.6937118521363367,-0.9034594639744316,-0.8643187212689132,-0.04375306224001262,-0.32460382346738487,0.5064850884044343,-0.45910263709975735,1.0107635659425054,-0.44251984099155367,0.7717815572169747,1.0107635659425054,-0.9863345303972141,-0.6402444865075249,-1.0006093881100504,0.5819244238243226,-0.9276822014962715,0.7138598438429089,-1.0026587072971425,-0.8527899701915796,1.0107635659425054,-0.45189595530647886,-0.8045523722384756,-0.6833820876518419,0.880061274008014,0.5143129175895524,-0.9439285501597283,1.0107635659425054,1.0107635659425054,-0.4293400786090703,0.9822611625146881,0.7813838228816472,1.0107635659425054,-0.2691188849728456,-0.4150196239583013,-0.9549928748381169,0.9348027931662569,0.8365050799626742,0.9524200069675643,-0.8632054699593834,1.0107635659425054,0.5634183950033105,-0.6806498789157092,-0.7236997163040052,-0.1509623450795811,1.0107635659425054,0.161326558612514,1.0107635659425054,-1.0061663005381225,-0.5725776252352642,-0.7215104127432592,1.0107635659425054,0.308811421566152,-0.32151538495740206,-0.890084539600796,0.06226437592983923,-0.7753904395605586,-0.49493355071532985,-0.3117896941183252,-0.7663530200102784,-0.5595098148677055,-0.5304605438846809,0.2745041021315059,-0.8515697937668976,-0.37967667446060643,-0.49879740330015854,-0.9997180300704609,-0.5088265414654783,-1.0060725045023748,-0.2766458394216042,-0.5033932907717997,1.0107635659425054,-0.81215375437386,0.9532884778281914,0.33028104436280686,-0.6388765192295429,-0.05288956715955077,1.0107635659425054,-1.000721162704983,-0.2879596166086837,-0.2438742674373336,-0.7714320812600145,-0.917427385101183,-0.6640701580873661,0.7918175969086224,-0.8433237265207406,-0.9162117624562943,0.20071372290186065,-0.6925147817378029,0.3200267306576956,-0.08389092008532589,-0.014832875389885918,0.5510901303022236,-0.8268215382288825,-0.07584305314768335,-0.9469640288021121,0.3714584798659899,-0.24956811852919758,-0.5720023113413467,-0.8758096818879598,-0.5895276215868206,0.06691035128295966,0.9209170174957814,-0.7307026016665229,-0.83748796900531,0.39604936387113954,0.605523825774422,-0.8129435098980556,-0.700183642610128,-0.8560780357625122,1.0107635659425054,-0.698814551672197,0.7823448478380782,-0.15087554234851638,-0.1349539461953366,1.0107635659425054,1.0035954434274788,-0.9361928019504355,-0.16284488640587516,-0.421854167318451,-0.7068789999865879,1.0107635659425054,1.0107635659425054,0.044862228425031604,0.8900508475151275,-1.0037470015278038,-0.6436507729330977,-0.7103883082874901,-0.6374681593333922,-0.39382163116933183,0.7495715312238866,-0.256050453635315,0.7693003977694604,-0.6593281948223474,0.5381831807273721,-0.5205734008529237,-0.6476021527139583,0.5290271854824676,-0.23497631478573044,-0.89058758441799,-0.44231240745095785,-0.5378817264482348,-0.8439850299707597,-0.31627463495499625,1.0107635659425054,0.42352956201529945,-0.2923065542616113,0.2130914434257053,-0.28358168959716107,-0.9444625843355173,-0.07736814800604178,-0.8893987521918869,-0.7050185739509319,-0.4911946609448359,0.6710391148042261,-0.9136630059918446,0.4663303313048872,-0.422101520357237,-0.9643311986947555,-0.6165832832602273,-0.5622272386045086,0.3937881460736539,-0.9850611871149423,-0.6625554644760361,-0.7166505243235868,0.005318193213656214,-0.22956107222123545,-0.5344904024419835,-0.9616496729363249,-0.7240500616481219,-0.06972487996755636,1.0107635659425054,-0.45937343914748024,-0.22504415143101422,1.0107635659425054,-0.27399512560177675,-0.705899286791004,-0.6969799698153695,-0.29148359162892107,0.6762991444457578,0.9659719964931724,0.7027982396043969,0.34685668453133495,-0.6394073007054795,0.7439548873985224,0.08740704719872308,-0.8721343084745863,0.13866797052476193,-0.34299751586348987,-0.4840766891475357,-0.4761087868787679,-0.669142891357389,0.9473996717351658,0.4112620636614578,-0.20512936351886946,-0.31912772584564875,-0.6947099401582834,-0.6745262278933305,1.0107635659425054,-1.0025459864622528,-0.5907859433097734,-0.5113389859715743,-0.8332906259756004,-0.046769531069508236,1.0107635659425054,1.0107635659425054,0.5740254492224299,-1.000719151945074,0.9210726148287272,-0.50460512845686,0.03739448235421375,-0.21911057636001832,-0.5322669751027848,-0.069689595566656,-0.15015904649599937,0.8732818195553669,-0.6384275875098956,-0.16301896498798313,1.0107635659425054,-0.94723075019002,1.0107635659425054,-0.8315928349325713,-0.769939565147679,-0.45361772761842073,-0.9108954315373151,0.7030365146535945,-0.9250732996545484,-0.31479329630215414,1.0107635659425054,0.6170000605341364,-0.9677581841193899,0.05093916624202803,1.0107635659425054,0.7046311064013022,-0.688672396972001,-0.13597965552383512,1.0107635659425054,-0.8255015926287234,1.0107635659425054,-0.4786096990853867,-0.5897904988749029,-0.26236157844919433,-0.9787317289018941,0.4644531095099928,-0.7039293334803137,-0.0829072297249224,-0.8041472632568416,0.16946778542842397,-0.20800800288836369,0.3370251922370547,0.17785207763331437,-0.4909051706579602,0.5243495073945345,-0.9494026074515568,-0.8100522737091325,-0.1148632389686673,-0.10512071540785359,-0.29161109746314046,-1.0039233569998085,0.009804997884305295,-0.5470275496136005,-0.23719285231524168,-0.16155001616457929,-0.8112617457943,-0.9538495212699519,0.21509211996500277,-0.5238984880621778,0.12066460950346088,-0.6684880341670776,0.9346959271911018,-0.17798638163942154,0.3623987941067191,-0.7866712166291342,0.8301070193527362,0.8095701821637926,-0.8648391532453189,1.0107635659425054,-0.11914374022710683,-0.5285193326126876,-0.8761607960520418,-0.46388969461273166,-0.9894196274973485,0.7624950399979875,-0.9722497486357606,-0.8792734523909267,-0.5606480232561037,-0.8225170335240312,0.502349546671923,-0.3904158770037348,0.2819844838323759,0.5807526239174472,-0.7163814373357861,0.3737425257024406,1.007175778865161,-1.0049033067553816,0.790738528517543,-0.2605707897603814,-0.9518758421394304,-0.09086649755408167,0.17317172346050252,-0.2886103044291842,-0.6953931845473078,-0.8740618584071991,-0.580307991704801,-1.003377376544561,1.0107635659425054,-0.6047591870362835,-0.8512648679407216,0.11876262283468919,-0.9957705535294232,0.29941774267202304,-0.08686512969048736,-0.8625419191894661,0.12752320805752,-0.9501196799190477,-0.9288278615243319,-0.7889082461677165,-0.8428920045403131,-0.16951768187335783,-0.9745540203512943,-1.0056379438020762,-0.01198645623018095,1.0107635659425054,-0.7478802870077568,1.0107635659425054,-0.7132078667996629,-0.8695843692101901,-0.6438704780231371,-0.5172077436055088,0.04127465942642734,-0.9706654472475864,-0.94519130738248,0.10452944403496346,0.19185419646351543,0.8835939426078573,0.2211695382944774,-0.9654342779247463,-0.9620969487360472,0.22786344674100292,-0.2843459262125137,-0.908183389540268,1.0107635659425054,-0.6232509631179418,-0.01745208052801684,-0.2836794184427304,-0.47238820093744405,0.31506745747252884,-0.17456711398443717,-0.6305299139879439,0.18288635512008078,-0.11800377242378834,-0.8655085588749708,-0.6453475585961723,-0.13427141148627994,-0.8870991525361414,-0.8889284709332075,-0.28850086586414564,-0.21668413619502322,-0.006826245663498846,-0.07313146209311583,-0.6588581501236572,-0.9355079016414861,-0.6561668662656691,-0.7222517326096508,-0.4667003525553079,0.08399211154854233,1.0107635659425054,0.04126444299189052,-0.9921606480930817,0.4597954798811507,-0.8154602124839586,0.013046335695871885,-0.595940408056091,0.6638042232322265,1.0107635659425054,-0.43792779761973816,-0.3311900084087941,-0.8023022136204886,0.9863955214472531,-0.6661960635709863,-0.798300919681891,0.581652379836656,-0.5586534085665315,-0.9102334775473254,-0.8026153007662945,0.49153071212240473,-0.6271932944792127,-0.7444935759212964,0.7066969256476464,-0.6449503743741791,-0.6683214959346278,0.5775148864842331,-1.0061285692198332,-0.20328305715757347,-0.19910382575204277,-0.9722705659148169,0.32385329547421476,-0.8634006910905329,0.0365304710190095,-0.42244228502178816,0.6925855308873995,-0.44245913378430585,-0.31696648421363066,-1.0040438843143442,0.3438443591979015,0.27064122535663293,-0.6142872320043209,1.0107635659425054,0.6486798785979027,-0.21509893292188986,-0.1507555620789558,-0.6783179888214276,-0.705219827361808,-0.8274966804382743,-0.5094647211765458,0.13135217543643024,1.0107635659425054,-0.482233088441117,-0.975316689756718,0.8734869170660686,1.0107635659425054,1.0107635659425054,-0.11978685812795051,0.6278925835203137,-0.01595361530157614,-0.27875057278618415,0.09093150273143864,-0.9442516319650811,-0.9172244166303848,0.17386598267402767,-0.7143409891482917,-0.5372750683557382,-0.9681066961235898,-0.5054426690988894,0.4689824644846503,0.1357210540283631,-0.9870756728436137,-0.7705226263812455,-1.002705191335035,-1.006097225021254,-0.2835240872397725,0.14755851589170088,0.42620020601422337,-0.7221747323331418,0.21592788640711252,-0.8168984380787554,-0.26822666940329504,-0.6731612176152145,1.0107635659425054,-1.0056398362819903,0.6283295689605026,-0.7559927569999705,1.0107635659425054,-0.02736009073820308,0.5761085964879885,-0.4281765878718182,-0.10344642512125907,-0.566875642393769,0.08214615263473057,0.0333265191573886,-0.5482079248200871,1.0107635659425054,-0.5348217047069637,-0.32938508526062193,1.0107635659425054,0.1584098182997471,0.07408548928016817,-0.6313783363894799,-0.998040701466504,-0.7946091053492628,-0.41082866804830215,1.0107635659425054,-0.6547164578314247,1.0107635659425054,-0.6234813134074987,-0.9081512173817265,-0.8383754829450737,-0.6539560357458991,-0.2617359364175584,0.5052954873583659,-0.25792808941019063,-0.1613939013566569,-0.7044992656344753,0.5385627412301645,-0.4977366091682507,-0.6885343050782615,-0.8279548971375006,0.9405193244470927,-0.8225035496046424,-0.8680263851208228,-0.9327070905084635,0.6459178041631238,-0.43264428939927085,0.4088307592316832,0.6549473580937607,0.21662526525549622,0.2647055508157322,-0.988244279190634,-0.7838622441764816,0.6773958956960355,-0.49750129111891905,0.07789269314006508,-0.5466633063701137,-0.013938506754807942,-0.09002712357213546,-0.6630618802730773,-0.3100298060781113,-0.8593551604339408,-0.6057491314514035,1.0107635659425054,-0.47275167536096563,-0.6329053902602495,-0.6352462696341236,-0.9787914011591888,-0.6366203874718267,0.09819403485968507,-0.9585653446561557,-0.5567273371338517,-0.37337025127651396,-0.9075912207471145,-0.7059496740687197,0.5690118559497258,-0.3281106478883997,1.0107635659425054,-0.7461908938443469,-0.5431717400684072,-0.7196757717464344,-0.9934949647125892,-0.5591788674427093,-0.6620747154378314,0.8565863026122735,-0.9692939907097626,-0.26757683911275565,-0.4500154216717346,-0.6155205966484052,1.0107635659425054,-0.9293763849994641,-0.8094851211348449,0.46344302792578573,1.0107635659425054,-0.5865658905210934,-0.40644598026699535,-0.8351105411130929,-0.3998812631446128,-0.6701535939115679,-0.4756930031276178,-0.0007747334250372238,-0.8559193040097085,-0.2648969101342527,-0.5895968153836836,0.04442343182242485,-0.25893713604444457,-0.17336546316391513,1.0107635659425054,-0.7950056390312855,1.0107635659425054,-0.2227967132529039,-0.9172150725108084,-0.4623755332613776,-0.1482455718827485,-0.6479201484795416,-0.8540212057957605,-0.8949130246818923,-0.772794962498227,-0.8334157662099271,1.0107635659425054,0.466290411806697,0.08606768889444412,0.15598055419988002,0.8239485940119341,-0.12046500169220623,-0.5780599621267175,0.1980132427742894,-0.2825001373261942,-0.3505904705492563,-0.06469144522575176,-0.3479350846696406,0.8321309083409814,0.8058988302702367,-0.2403236498483041,-0.6963554514436826,-0.5811771722453959,0.11132973794416588,1.0107635659425054,0.23963430218236034,0.19999505365444217,-0.6012954756733141,-0.02707433366365814,-0.8137683945806587,-0.3227937255694473,-0.2479139728041898,-0.746190361584371,-0.7861736126916936,-0.05530103381647471,0.1618715189028077,1.0107635659425054,-0.4411081692555531,-0.9030708550520495,-0.5983120993685682,-0.4785243896392543,-0.2615259894270765,0.15758993094691745,-0.06109960705859105,-0.9472225297303927,-0.734588040350373,0.13358812567006137,1.0107635659425054,0.14349379430597878,0.9304181537650386,-0.630425117912695,-0.14863262838020094,-0.1991961580728568,-0.9382550136569433,0.08381827691892328,-0.44753302028427655,1.0107635659425054,-0.10386743536967219,-0.7592927688503613,-0.7294306777441868,-0.9636028304877766,-0.1442850993273002],\"y\":[-0.015975967179095232,-0.23261343006503693,-0.09672397600150287,0.906463621824003,-0.8885268229482953,-0.8198262748805275,-0.7742214128953456,-0.8746444130904625,-1.0175253858944662,0.41126339109595017,0.7239582239158419,-0.43641571892424236,0.043845120747561056,0.20598754011304005,-0.7567267202175835,-0.6774500942222894,0.7643808750698391,-0.7165842707257948,0.5203155713259005,-0.8754765542106696,-0.7453704764622232,-0.853763339379576,0.6507227123791364,-0.6584483564844803,0.08748708470524913,-0.7830210921547582,-0.6798605676154774,0.3805323438287404,0.7422929255332988,0.19943890659397712,1.0115087275493528,0.5466401032377779,-0.2583357608614691,-0.2769791253820843,-0.034937736244895344,-0.8655868243240563,1.0115087275493528,0.013156740196045954,0.6248831838549191,0.7237979468961272,0.08137753660840852,0.5034173428118739,0.2099865381817269,-0.07170106902552989,-0.35454253368393845,0.2530401404886461,-0.9596612690536348,-0.07366688395769173,-0.3735052601501213,-0.7519017203120776,-0.31472636028211565,0.629315090809507,-0.7346224389951369,0.7400414774612707,0.1360857190607687,-0.25486790021289296,0.45727192586507326,0.43203708695223786,-0.6940534583196076,-0.5992802081682609,-0.7389233348343165,0.22286100287708835,0.18054637955507916,-0.038110885213789206,1.0115087275493528,-0.4728366897983638,0.12053802858391238,-0.15001780614215504,0.1861583104210846,0.187543687401365,-0.5948533676125854,-0.31480679681543844,-0.9443892353811391,0.07130838169442585,-0.894690782679339,-0.28271500420736706,0.8710534869399678,-0.8623761579261566,0.5624521554296545,0.10181356442776378,-0.27748528843579096,-0.7739904447096281,-0.7717044855203018,-0.10940832407767222,0.29073987044828603,-0.40396579151774936,-0.44348662366531916,0.5559752710598967,0.6862530699291309,-0.2978294430713371,-1.0178622716198018,-0.9357823176991742,-0.192761270329762,0.5002230080998804,-0.9338722853091564,-0.8160980609325412,-0.6099706675018237,-0.3139606783947021,1.0115087275493528,0.09874776723641543,0.1345926214989043,1.0115087275493528,-0.4126023923368722,-0.7021720347510992,0.3906866887503197,0.22349299143790463,-0.7645372595951941,1.0109939814198414,-0.7801126215508167,-0.3695028050092353,-0.42457247502400336,0.1150559912453198,-0.8119228713910851,-0.17219179505316848,0.31926947798096883,-0.27874470579840227,-0.07707388076403797,0.4131265145925074,-1.0134272056164801,-0.4927395312862834,-0.9726142629321402,0.9275072971376346,0.4238705585451567,1.0115087275493528,1.0115087275493528,-0.27231976691867105,-0.271734121006731,1.0115087275493528,-0.9144753684561712,1.0115087275493528,-0.16845408905780787,-0.1931636020081087,-0.18433441842561726,0.16159897149502,0.34184016592683214,0.20247816479572786,-0.17173640029679982,0.31879997181351155,-0.9535550066655006,-0.057586200864652326,0.7505103861506239,1.0115087275493528,-0.3971063046230572,0.05886029544577897,-0.514968952561869,1.0103351111424423,-0.747120053018447,-0.9073915891013874,0.24127856991911142,-1.009163681919867,-0.4231761754837145,1.0115087275493528,-0.21077203534145678,-0.286414339681552,0.4009029629480178,0.7244752350236906,1.0115087275493528,-0.5948514602624067,-0.36097164489218586,-0.9504134817115835,0.2347258087750521,-0.08018286900611549,-0.8690387109148847,-0.1562403274841581,-0.23277887779187703,-0.6375756870353193,-0.8718041302554141,-0.5219049122777937,-0.10975897103652463,-0.45116966860441376,-0.42168903839115895,-0.7972296588931708,-0.38621307012360756,1.0115087275493528,0.13527563167700427,0.25630960691627747,-0.5727704248702645,0.7519763039724401,0.27932506508196636,-0.3202470959676959,-0.31297189614105864,-0.11779968138708281,0.52453617964349,-0.683572092249399,0.6163417717306584,0.07407938152434561,-0.9885030859687146,0.6608724975416943,0.3457965168376142,-0.13332524362163006,0.7948521650845697,-0.9179149764802235,1.0115087275493528,-0.6449058125866375,0.07715693574140564,-0.6062984223606475,-0.45316800534724194,-0.528532536916372,-0.6862029837976278,0.18809462848075434,-0.7653978917586975,-0.24832844581656563,-0.1918081465837587,0.6915223036122247,-0.20876605429673997,-0.5837233832721888,-0.08775321637175322,0.36847985765341457,1.0101474755686,-0.48852214162212065,-0.8519024808613562,0.00889954297881012,-0.1554602212610171,-0.9234316292443271,-0.642817979397137,-1.004797757360528,-0.15776202039753162,-0.35296885057701854,-0.6066232679379793,-0.5875330172309338,0.8402325557955806,-0.9227560100481701,0.9850170044733624,-0.9067956613798895,-0.8516200142208104,-0.8330876634410723,-0.9223293000503503,0.9885733780911747,-0.6222288494729976,-0.9398270325674599,-0.5208090799953634,-0.9725839241433581,0.33780334868038064,-0.4711081238964537,0.9316371275076504,-0.264883187385497,-0.4865199305742417,-0.8779875211164047,0.15872764951604584,0.34910621643308026,-0.525536089785432,-0.5458050829029937,0.2763074880873265,-0.9732615698990802,0.49478917605682304,0.08407633280323831,-0.26378497091534325,-0.6499561778367107,0.04786617255269062,-0.7004573269403321,-0.37865984420605947,-0.04624318935115767,-0.5647689120559987,-0.09972083291470783,0.046446258378058825,-0.9735952965756821,0.23906672916564056,-0.760401885988721,0.14936208330045192,-0.2679176027059343,0.17443660049005283,1.0115087275493528,-0.6423188496972149,0.00652801147366049,0.6428455349546528,-0.7423993613258458,-0.733708162607854,0.35626551493400715,-0.1828799745072207,-0.9213401005638552,-0.6291629018387435,-0.016327765253582916,-0.20024845424736815,-0.4362453091067027,-0.7894907047519593,-0.8918469831673984,-0.8000667826794855,0.12550597544461753,-0.3735508279379874,-0.9119705408338243,-0.7364188052354351,-0.15525811664792763,0.11180772173666796,1.0115087275493528,-0.35368512017386183,0.3511630849845213,-0.17179916403862192,-0.9527524890777584,0.05098249217201801,-0.5533083600877337,0.08328634710221795,-0.9239287323846843,-0.37045710594792713,0.8533915434933995,0.5152934587003511,0.22808302964325605,0.1157443211422779,-0.5607255084909609,-0.3181579514749475,-0.3028669337077031,0.46728000086981364,-0.8282616502557839,-0.3229692721033896,-0.13692113515096008,0.01817629633905568,-0.5983954957087497,0.15420691666758296,-0.7433352146120268,-0.7478137920413028,-0.5368594913549006,0.26930474131279636,0.8987383767622018,-0.413757620695965,-0.3519079466447381,0.16716183279744046,-1.0209369201080738,-0.6800574419167484,-0.8591063636727132,0.08771959516240034,0.0040704545638877,-0.8671012007613532,0.6752558848449352,-0.9511801172740865,-0.0060960622879465435,0.3820088414835797,0.9423896949314114,1.0115087275493528,-0.043566081814025416,-0.7735099116739493,0.3312451635092503,-0.48546209628365533,-0.844467808678361,-0.2107976057547917,1.0115087275493528,0.25164384094835723,0.8367586750730026,-0.66098817206167,-0.5684807943180786,-0.5703807535149645,0.934361598424028,-0.8614017404035474,0.13250522044342875,0.1969594258673661,-0.9875289068648778,-0.08574051489789071,0.6735046989619979,0.7261976914445591,-0.7356816739960109,-0.8378259981228277,-0.6223918087039013,0.7219642681179557,-0.6230680239469892,-0.9972832148887943,0.26892416534742697,-0.24571349852373794,-0.5893688417780565,0.16438657868255152,-0.14294985183338618,0.7906830552218085,0.9775380460034024,-0.8155892752723387,0.06339325843220493,0.9905557705786018,-0.24901950262823253,-0.3197798845809225,0.22879025422792318,0.5553905490206996,-0.7149792951550035,-0.730169551188582,0.31135448137872074,-0.5323480121350397,-0.35027623836909666,-0.8697391852680596,0.5592218194830357,0.4768431864453421,0.16168076403511059,-0.34828073284919014,-0.7862565541049827,-0.6923824407488745,0.1640825798466274,0.3268458305194352,-0.6617951600013938,0.3012550323794759,-0.5712342927199904,0.050267142722624274,-0.879497486806413,0.847638319702428,-0.3617730597931059,0.670767174617834,-0.04347315064691397,-0.15228138376922662,-0.18051286352825457,-0.5403977451460141,-0.4919819556371299,-0.1635156465201815,-0.8719333532300297,0.06610331991402843,-0.569406157178276,0.4184057320616934,-0.9790832794824103,1.0115087275493528,-0.6788061605947436,-0.5731257880504576,-0.30772134852924815,0.04184265265444316,-0.6261475004154013,-0.6901724179385428,-0.6311494070499936,0.12709177320540765,0.13207025519561616,-0.4933695826945743,-0.1472809076472685,-0.5710042782093622,1.0115087275493528,-0.557857271054854,-0.6256454500855178,-0.2523132132647776,-0.6064755675085062,-0.5643795742007452,-0.9683401892048503,-0.6190737346490564,-0.8885965008345156,0.43287456269247643,-0.8894380594962308,-0.8157072329599606,0.019386597571915506,-0.6989432485265007,-0.17042135685436377,1.0115087275493528,-0.5146936980891869,-0.8033486170809327,0.6518509100099136,-0.5297507972384058,-0.21273608448458586,-0.3842792852633941,0.3222142478430012,1.0115087275493528,-0.8804397773994476,-0.9479435824393865,-0.13425850410366166,0.8233049421678615,-0.687014978531571,0.2684914948802983,-0.8887695928632443,0.7154911388438624,0.45775076016699895,1.0115087275493528,-0.21602677018295674,0.928467051905744,-0.3632783465147069,-0.48804712202055267,-0.5400839264369037,-0.36826374264931366,-0.5739250273800799,0.864577317826527,-0.2263547882790223,0.27458890597150876,-0.14278610284029908,-0.48855268902732846,1.0115087275493528,-0.29487245424722164,-0.8532756537807268,-0.9555127228099891,-0.9115166510959561,-0.3114377905503494,-0.47269500944289267,-0.9072660616177431,0.834686935150636,0.3925089830321113,0.15268196039726284,0.5970874889082337,-0.15473827431715717,-0.9906634580697037,0.1822841096785516,-0.02841550760487057,-0.42505911754072356,0.09264791235278833,-0.2590206485874013,-0.9250811295208554,-0.7713615201162711,-0.6879115523250067,-0.18932477665092365,0.9726819920527975,-0.29197235810265904,-0.20149387940827695,-0.9933645639463906,-0.07448061467832119,0.7249183363121098,0.0859193471664648,0.06786576363337266,-0.710968435752392,-0.3873154589222775,1.0115087275493528,-0.2915043718548755,-0.7454108884441372,-0.9662394217969498,-0.8938895167901516,0.8994280626659277,0.9853644998340677,1.0115087275493528,-0.23959765468118988,-0.895418317563176,0.9384534009998535,-0.903367259038138,-0.5375470314896753,-0.12397313316550082,0.4456989892479901,-0.8288377892191764,0.41535653477737017,-0.635569571880043,1.0115087275493528,0.6091079673633711,0.6426940794295152,-0.5532146615101987,0.37264327526798574,-0.7800725671970614,0.7293340307901777,-0.7312938745143084,0.7909729724489905,1.0115087275493528,0.3424073343839148,-0.22174192147621805,0.33151752715431776,-0.7824321977870449,0.4792769950758742,0.6662984319629175,0.2698721481886514,0.4240330409385157,0.6772363103774902,-0.05964943221708053,-0.41252943619253196,0.6877787712581146,-1.0199952851666632,-1.020079327783918,0.10674551750443016,0.008530358029083883,-0.6831580780512069,-0.13483500069521265,0.3229757574018986,-0.2719283727015061,-0.9300256368360036,0.6572924608607258,0.049003530679736854,-0.5988949234321375,0.8562870798789408,-0.8182900235208671,-0.2139032039799498,0.6999405128358716,0.6512137954454916,0.4739356397141435,-0.4389929066439986,-0.9075024538305317,0.2743193139446699,-0.9594367977794639,0.2046968004842108,-0.7634739714751902,0.19997239839946485,0.8024447300995561,0.3453022747225252,-0.33137359343354694,-0.5121244377936114,1.0115087275493528,-0.36537312365095215,0.623894640020048,-0.4488131374584708,-0.8829728576463183,-0.506562187439295,1.0115087275493528,-0.23386711047593847,-0.16095273412442,-0.8008957647509589,-0.12508674254764465,-0.8018893749847426,0.1986761900400447,0.07954603340153475,-0.9477117201832725,-0.7796838849934319,0.0024460173623105244,0.8045696970128505,1.0115087275493528,-0.5014420846983085,-0.9961095388771907,-0.84642862426689,0.06297984773153043,-0.6188399054380705,-0.9350883402575461,-0.2635803778063173,0.12368307021472175,-0.867801555905142,-0.7309820227600698,0.8404023099614963,-0.6025514925390314,0.8060951599230619,-0.5606292469116232,-0.48622488734345415,0.3000350435213425,0.4614824609895309,0.3555596165537612,-0.6655802964312796,-1.0039303898667056,-0.9125415537936112,0.8221062917898538,0.7511800448774721,-0.8428717142068398,0.9144840293259779,0.5651747189958534,0.33374185509099064,-0.5796838540122018,-0.8311554581052256,0.5952322332311643,0.3423238580112445,0.5306292097897584,-0.8882034674882907,-0.07020930511867335,-0.6322000589750628,-0.8713336704128674,-0.7058009472804002,-1.017797660132494,-0.3422762454745045,0.9601781195367132,-0.6413928311853935,-0.26927813943037004,0.2082381537193649,-0.5726803025743149,-0.5176389447887638,0.9472210725390777,0.12291186744261086,-0.9152045722714147,-0.2696957299101474,0.02633277390476481,-0.4816601811326653,0.9391463651616992,-0.6942085497310236,0.7226749944783417,0.7718973844964447,-0.5562202877638743,-0.7880801596900223,-0.2712228319494187,0.2394075637018933,0.7079461383739606,-1.014181443402821,0.6596063150464174,-0.2473416305177941,0.7950824776186632,-0.3063884981847519,0.9105572721453142,0.6405626752093672,0.9088388092388826,-0.08440104843246167,-1.0164780122275168,-0.4786938045693884,0.3624635089448043,-0.48102419905741206,-0.5910794368650004,-0.5993081627693193,-0.9574604253660387,-0.48416184970627846,1.0115087275493528,-0.30415940187263196,-0.37132000308976787,-0.45697272191880717,-0.4372703906184369,0.057017642436004344,-0.655720786124062,-0.5957891612940733,0.42809989895028366,-0.8688314653970164,0.9112249639172905,-0.38988001044709897,0.4545282920398677,-0.5480561137421701,-1.017937135114321,0.05035850181595552,-0.11060584196651124,0.2988405952741976,-0.6090016144015925,-0.593671108525177,-0.519002402143161,-0.1347080277977611,-0.029023507139365443,-0.5647251622112718,1.0115087275493528,-0.07343509620744422,0.8417543828195136,-0.8646057906805144,0.181288145059391,0.6082714751005686,-0.12567390837925846,-0.2903304574244995,-0.6748762443653462,0.9210731493328211,-0.8970937458811977,0.009503058191473419,-0.5985589317771981,-0.7057710853291629,0.14840586011040802,0.00482857410586568,1.0115087275493528,-0.597463099494768,-0.748689086959306,-0.5903282389180073,-0.8580824742548407,-0.9641011034324034,0.26832486996076965,-0.23843841790648687,-0.3853684418201984,-0.36685894944025976,-0.7214648818099522,-1.0076096683616664,0.6104247542430801,-0.37329837226041146,-0.793306895226944,-0.7614587964065646,-0.2847292852055964,-0.6017618495649963,-0.6261747993648358,-0.2709230799478772,-1.021038844133255,0.9638249134739406,-0.3537271414824892,-0.8359694311425102,0.08130569060147709,0.6850540023182715,1.0115087275493528,-0.25984304434028854,-0.9079845365882308,-0.4326956410168627,-0.3290228439428336,-0.9741060491907566,-0.9382077518703273,-0.25222934946160225,0.25150001482393497,-0.6483040549536864,-0.08370169911786884,-0.899118040467866,-0.287371114215007,-0.954495151489584,0.20212861307311095,-0.387132025479298,0.1031651380964764,0.03566223085222713,0.5048828434008383,1.0115087275493528,-0.10665640520012738,-0.022271858172996765,-0.28492428195903513,0.07834688383422243,-0.329389233991248,0.05372938935417015,0.43226742928867795,-0.9728324161088437,0.21352584995614277,0.10917908771618985,-0.6904424868029263,-0.2781563478729267,-0.4739352340943295,-0.44265391630052764,-0.5797736186799929,-0.2436369306212312,0.3452693133272473,-0.5677976649305926,0.2671327462966551,-0.20691643126316733,-0.6299430676665775,0.3376177396661034,-0.5045138125566192,0.4584634236799104,-0.5396759919174067,-0.9550698599403423,0.5828318940669744,-0.9654699252091785,-0.3233413842023405,-0.10638433212793875,-0.8342256958462091,-0.6498865595551834,-0.770522643665745,0.25643573044685253,-0.08522205837623455,-0.43321190706604784,-0.049438205791828345,-0.07953749174111421,0.17592351406500928,0.12126392433868945,-0.8518934805526999,0.7581292368352623,-0.8316374812582316,0.4015612371784861,-0.9744736313330328,0.9065996993383237,-0.8708071821588176,-0.06185721240083473,0.3215398505430525,0.164405115742102,0.0331885578578989,-0.14072966642288295,-0.561152337698167,-0.33391668726885654,-0.9650284332474727,-0.6479188894269492,-0.7682015773121896,-0.7388017412604162,0.9102846402791278,0.2809503360507543,0.33212323004548205,-0.0027855752586053786,-0.23102383250506242,0.4717496077927799,-0.1591920561941085,0.3859415889358988,0.2963698317339507,0.6006088149665101,-0.012085592144298676,0.07094246103296954,-0.630054647652039,0.6516416379324802,-0.1822195247054547,1.0115087275493528,-0.048167020227625375,-0.09281355050674538,0.5529779298585604,-0.6254007132156968,-0.2245036006222561,-0.734380384336505,0.1593390446554001,-1.011037415051794,-0.460773802604094,-0.44424783520075106,0.18251577821941292,-0.1686678165860496,0.07346036443486267,-0.08983832264654486,-0.7453071762781633,0.012073296376544832,0.7705014425843144,0.5864355342064059,1.0115087275493528,-0.7701421869097618,-0.5144263710406853,0.9738406476817428,-0.45011395028043205,-0.3840381246751584,-0.5194499737835618,0.737527351506802,-1.0140333853451893,-0.3582062553540031,-0.6791007269879865,0.9692494173825297,-0.7666976913008763,-0.6446129151248011,0.300222470478759,-0.8406975734217474,-0.7987675195795446,0.6267527446583299,-0.6513670209221131,0.11750639978287697,-0.27549443208194535,-0.9909017576326711,0.44121764020048543,0.06829928346737786,0.15369875685665782,-0.9604822044915413,0.14186242710081703,1.0115087275493528,1.0115087275493528,-0.5569218350015247,0.9310364314107056,-0.8964979969737792,-0.9987102108460236,-0.2818225133354079,-0.6462250432587631,-0.3806178583740134,-0.09735759624079246,-0.2121571739029648,-0.06963832196123303,-0.3747805621634407,-0.571035809092006,0.7126878705232219,-0.34692800433954896,-0.7001927417077127,-0.16619989916989772,-0.2474886603944699,0.20923267292471812,-1.0212739250427956,1.0115087275493528,0.5028968150271329,0.494346462198909,-0.3929774279281307,-0.7882963459118539,-1.009447519468354,1.0115087275493528,0.002919402724266068,-0.14951575581227147,-0.6405332719063657,-0.9809053353454296,-0.5442694871949573,0.5539857856139923,-0.9534431882612668,1.0115087275493528,0.12924180389214582,-0.3152376195370814,0.3887483143287384,-0.02899794045132384,-0.46337185196643116,0.41676845074724816,-0.9401137907459082,-0.19379262523544385,0.5342208693858791,-0.6708366555006662,0.1359755844891146,-0.09836628646192742,-0.30321681325613203,1.0115087275493528,0.3593657040332675,-0.3636924799222851,-0.7992225418065814,-0.6376008402158027,1.0115087275493528,-0.519040131913886,-0.6996645249175634,0.7794922740944616,0.9367204541530014,0.09041414452284759,-0.7401230580967998,0.5858489644217231,0.7229791572271718,0.6493843486005294,-0.03530255794482284,1.0115087275493528,-0.2688966097899112,0.7139845706213601,1.0115087275493528,-0.4058886091144346,-0.960302615551266,0.20205167831550708,0.12003883927929704,-0.5108457979174791,-0.31611658014370947,-0.2731626964883272,-0.8402518495268324,1.0115087275493528,0.10061852758427456,0.7645728021815837,-0.578291667195736,-0.950405017845165,-0.29524212255375587,1.0115087275493528,-0.6505911466321813,0.44338671458666534,-0.3908596135780068,0.05147902161720428,-0.9100835754600318,-0.8193164759405425,-0.614603740295585,-1.0177795403057952,0.3318670788769347,-0.2602016857786014,0.10405920849280238,-0.4855497151824953,0.19892517374424823,0.29236719777898545,-0.885094546301493,0.08660416783711732,-0.9031187074679593,-0.914334939799255,0.30811746970647597,1.0115087275493528,-0.6097717070362947,0.20280943277873992,-0.7250445608627621,0.1564788538528602,-0.921346716684788,-0.7926649526823819,-0.476441134601152,-0.7575222640562344,-1.0016564708253832,0.07060744540487955,-0.40563907406682,1.0115087275493528,0.0677112831700608,-0.7514546851139146,-0.7350857462745131,-0.1457102643796961,0.7484957475242361,-0.19875450731862723,-0.21108433413089342,-0.8284100063368809,1.0115087275493528,0.3711261868171533,-0.5619531267498096,-0.09822446454531022,-0.0955452335909867,-0.4264518407994271,-0.16908995192367493,-0.5389007136744058,-0.955812057578679,1.0115087275493528,0.8512627022750543,-0.5303147768444082,-0.273454521065688,-1.0211910745194028],\"type\":\"scatter\",\"xaxis\":\"x2\",\"yaxis\":\"y2\"}],                        {\"template\":{\"data\":{\"histogram2dcontour\":[{\"type\":\"histogram2dcontour\",\"colorbar\":{\"outlinewidth\":0,\"ticks\":\"\"},\"colorscale\":[[0.0,\"#0d0887\"],[0.1111111111111111,\"#46039f\"],[0.2222222222222222,\"#7201a8\"],[0.3333333333333333,\"#9c179e\"],[0.4444444444444444,\"#bd3786\"],[0.5555555555555556,\"#d8576b\"],[0.6666666666666666,\"#ed7953\"],[0.7777777777777778,\"#fb9f3a\"],[0.8888888888888888,\"#fdca26\"],[1.0,\"#f0f921\"]]}],\"choropleth\":[{\"type\":\"choropleth\",\"colorbar\":{\"outlinewidth\":0,\"ticks\":\"\"}}],\"histogram2d\":[{\"type\":\"histogram2d\",\"colorbar\":{\"outlinewidth\":0,\"ticks\":\"\"},\"colorscale\":[[0.0,\"#0d0887\"],[0.1111111111111111,\"#46039f\"],[0.2222222222222222,\"#7201a8\"],[0.3333333333333333,\"#9c179e\"],[0.4444444444444444,\"#bd3786\"],[0.5555555555555556,\"#d8576b\"],[0.6666666666666666,\"#ed7953\"],[0.7777777777777778,\"#fb9f3a\"],[0.8888888888888888,\"#fdca26\"],[1.0,\"#f0f921\"]]}],\"heatmap\":[{\"type\":\"heatmap\",\"colorbar\":{\"outlinewidth\":0,\"ticks\":\"\"},\"colorscale\":[[0.0,\"#0d0887\"],[0.1111111111111111,\"#46039f\"],[0.2222222222222222,\"#7201a8\"],[0.3333333333333333,\"#9c179e\"],[0.4444444444444444,\"#bd3786\"],[0.5555555555555556,\"#d8576b\"],[0.6666666666666666,\"#ed7953\"],[0.7777777777777778,\"#fb9f3a\"],[0.8888888888888888,\"#fdca26\"],[1.0,\"#f0f921\"]]}],\"heatmapgl\":[{\"type\":\"heatmapgl\",\"colorbar\":{\"outlinewidth\":0,\"ticks\":\"\"},\"colorscale\":[[0.0,\"#0d0887\"],[0.1111111111111111,\"#46039f\"],[0.2222222222222222,\"#7201a8\"],[0.3333333333333333,\"#9c179e\"],[0.4444444444444444,\"#bd3786\"],[0.5555555555555556,\"#d8576b\"],[0.6666666666666666,\"#ed7953\"],[0.7777777777777778,\"#fb9f3a\"],[0.8888888888888888,\"#fdca26\"],[1.0,\"#f0f921\"]]}],\"contourcarpet\":[{\"type\":\"contourcarpet\",\"colorbar\":{\"outlinewidth\":0,\"ticks\":\"\"}}],\"contour\":[{\"type\":\"contour\",\"colorbar\":{\"outlinewidth\":0,\"ticks\":\"\"},\"colorscale\":[[0.0,\"#0d0887\"],[0.1111111111111111,\"#46039f\"],[0.2222222222222222,\"#7201a8\"],[0.3333333333333333,\"#9c179e\"],[0.4444444444444444,\"#bd3786\"],[0.5555555555555556,\"#d8576b\"],[0.6666666666666666,\"#ed7953\"],[0.7777777777777778,\"#fb9f3a\"],[0.8888888888888888,\"#fdca26\"],[1.0,\"#f0f921\"]]}],\"surface\":[{\"type\":\"surface\",\"colorbar\":{\"outlinewidth\":0,\"ticks\":\"\"},\"colorscale\":[[0.0,\"#0d0887\"],[0.1111111111111111,\"#46039f\"],[0.2222222222222222,\"#7201a8\"],[0.3333333333333333,\"#9c179e\"],[0.4444444444444444,\"#bd3786\"],[0.5555555555555556,\"#d8576b\"],[0.6666666666666666,\"#ed7953\"],[0.7777777777777778,\"#fb9f3a\"],[0.8888888888888888,\"#fdca26\"],[1.0,\"#f0f921\"]]}],\"mesh3d\":[{\"type\":\"mesh3d\",\"colorbar\":{\"outlinewidth\":0,\"ticks\":\"\"}}],\"scatter\":[{\"fillpattern\":{\"fillmode\":\"overlay\",\"size\":10,\"solidity\":0.2},\"type\":\"scatter\"}],\"parcoords\":[{\"type\":\"parcoords\",\"line\":{\"colorbar\":{\"outlinewidth\":0,\"ticks\":\"\"}}}],\"scatterpolargl\":[{\"type\":\"scatterpolargl\",\"marker\":{\"colorbar\":{\"outlinewidth\":0,\"ticks\":\"\"}}}],\"bar\":[{\"error_x\":{\"color\":\"#2a3f5f\"},\"error_y\":{\"color\":\"#2a3f5f\"},\"marker\":{\"line\":{\"color\":\"#E5ECF6\",\"width\":0.5},\"pattern\":{\"fillmode\":\"overlay\",\"size\":10,\"solidity\":0.2}},\"type\":\"bar\"}],\"scattergeo\":[{\"type\":\"scattergeo\",\"marker\":{\"colorbar\":{\"outlinewidth\":0,\"ticks\":\"\"}}}],\"scatterpolar\":[{\"type\":\"scatterpolar\",\"marker\":{\"colorbar\":{\"outlinewidth\":0,\"ticks\":\"\"}}}],\"histogram\":[{\"marker\":{\"pattern\":{\"fillmode\":\"overlay\",\"size\":10,\"solidity\":0.2}},\"type\":\"histogram\"}],\"scattergl\":[{\"type\":\"scattergl\",\"marker\":{\"colorbar\":{\"outlinewidth\":0,\"ticks\":\"\"}}}],\"scatter3d\":[{\"type\":\"scatter3d\",\"line\":{\"colorbar\":{\"outlinewidth\":0,\"ticks\":\"\"}},\"marker\":{\"colorbar\":{\"outlinewidth\":0,\"ticks\":\"\"}}}],\"scattermapbox\":[{\"type\":\"scattermapbox\",\"marker\":{\"colorbar\":{\"outlinewidth\":0,\"ticks\":\"\"}}}],\"scatterternary\":[{\"type\":\"scatterternary\",\"marker\":{\"colorbar\":{\"outlinewidth\":0,\"ticks\":\"\"}}}],\"scattercarpet\":[{\"type\":\"scattercarpet\",\"marker\":{\"colorbar\":{\"outlinewidth\":0,\"ticks\":\"\"}}}],\"carpet\":[{\"aaxis\":{\"endlinecolor\":\"#2a3f5f\",\"gridcolor\":\"white\",\"linecolor\":\"white\",\"minorgridcolor\":\"white\",\"startlinecolor\":\"#2a3f5f\"},\"baxis\":{\"endlinecolor\":\"#2a3f5f\",\"gridcolor\":\"white\",\"linecolor\":\"white\",\"minorgridcolor\":\"white\",\"startlinecolor\":\"#2a3f5f\"},\"type\":\"carpet\"}],\"table\":[{\"cells\":{\"fill\":{\"color\":\"#EBF0F8\"},\"line\":{\"color\":\"white\"}},\"header\":{\"fill\":{\"color\":\"#C8D4E3\"},\"line\":{\"color\":\"white\"}},\"type\":\"table\"}],\"barpolar\":[{\"marker\":{\"line\":{\"color\":\"#E5ECF6\",\"width\":0.5},\"pattern\":{\"fillmode\":\"overlay\",\"size\":10,\"solidity\":0.2}},\"type\":\"barpolar\"}],\"pie\":[{\"automargin\":true,\"type\":\"pie\"}]},\"layout\":{\"autotypenumbers\":\"strict\",\"colorway\":[\"#636efa\",\"#EF553B\",\"#00cc96\",\"#ab63fa\",\"#FFA15A\",\"#19d3f3\",\"#FF6692\",\"#B6E880\",\"#FF97FF\",\"#FECB52\"],\"font\":{\"color\":\"#2a3f5f\"},\"hovermode\":\"closest\",\"hoverlabel\":{\"align\":\"left\"},\"paper_bgcolor\":\"white\",\"plot_bgcolor\":\"#E5ECF6\",\"polar\":{\"bgcolor\":\"#E5ECF6\",\"angularaxis\":{\"gridcolor\":\"white\",\"linecolor\":\"white\",\"ticks\":\"\"},\"radialaxis\":{\"gridcolor\":\"white\",\"linecolor\":\"white\",\"ticks\":\"\"}},\"ternary\":{\"bgcolor\":\"#E5ECF6\",\"aaxis\":{\"gridcolor\":\"white\",\"linecolor\":\"white\",\"ticks\":\"\"},\"baxis\":{\"gridcolor\":\"white\",\"linecolor\":\"white\",\"ticks\":\"\"},\"caxis\":{\"gridcolor\":\"white\",\"linecolor\":\"white\",\"ticks\":\"\"}},\"coloraxis\":{\"colorbar\":{\"outlinewidth\":0,\"ticks\":\"\"}},\"colorscale\":{\"sequential\":[[0.0,\"#0d0887\"],[0.1111111111111111,\"#46039f\"],[0.2222222222222222,\"#7201a8\"],[0.3333333333333333,\"#9c179e\"],[0.4444444444444444,\"#bd3786\"],[0.5555555555555556,\"#d8576b\"],[0.6666666666666666,\"#ed7953\"],[0.7777777777777778,\"#fb9f3a\"],[0.8888888888888888,\"#fdca26\"],[1.0,\"#f0f921\"]],\"sequentialminus\":[[0.0,\"#0d0887\"],[0.1111111111111111,\"#46039f\"],[0.2222222222222222,\"#7201a8\"],[0.3333333333333333,\"#9c179e\"],[0.4444444444444444,\"#bd3786\"],[0.5555555555555556,\"#d8576b\"],[0.6666666666666666,\"#ed7953\"],[0.7777777777777778,\"#fb9f3a\"],[0.8888888888888888,\"#fdca26\"],[1.0,\"#f0f921\"]],\"diverging\":[[0,\"#8e0152\"],[0.1,\"#c51b7d\"],[0.2,\"#de77ae\"],[0.3,\"#f1b6da\"],[0.4,\"#fde0ef\"],[0.5,\"#f7f7f7\"],[0.6,\"#e6f5d0\"],[0.7,\"#b8e186\"],[0.8,\"#7fbc41\"],[0.9,\"#4d9221\"],[1,\"#276419\"]]},\"xaxis\":{\"gridcolor\":\"white\",\"linecolor\":\"white\",\"ticks\":\"\",\"title\":{\"standoff\":15},\"zerolinecolor\":\"white\",\"automargin\":true,\"zerolinewidth\":2},\"yaxis\":{\"gridcolor\":\"white\",\"linecolor\":\"white\",\"ticks\":\"\",\"title\":{\"standoff\":15},\"zerolinecolor\":\"white\",\"automargin\":true,\"zerolinewidth\":2},\"scene\":{\"xaxis\":{\"backgroundcolor\":\"#E5ECF6\",\"gridcolor\":\"white\",\"linecolor\":\"white\",\"showbackground\":true,\"ticks\":\"\",\"zerolinecolor\":\"white\",\"gridwidth\":2},\"yaxis\":{\"backgroundcolor\":\"#E5ECF6\",\"gridcolor\":\"white\",\"linecolor\":\"white\",\"showbackground\":true,\"ticks\":\"\",\"zerolinecolor\":\"white\",\"gridwidth\":2},\"zaxis\":{\"backgroundcolor\":\"#E5ECF6\",\"gridcolor\":\"white\",\"linecolor\":\"white\",\"showbackground\":true,\"ticks\":\"\",\"zerolinecolor\":\"white\",\"gridwidth\":2}},\"shapedefaults\":{\"line\":{\"color\":\"#2a3f5f\"}},\"annotationdefaults\":{\"arrowcolor\":\"#2a3f5f\",\"arrowhead\":0,\"arrowwidth\":1},\"geo\":{\"bgcolor\":\"white\",\"landcolor\":\"#E5ECF6\",\"subunitcolor\":\"white\",\"showland\":true,\"showlakes\":true,\"lakecolor\":\"white\"},\"title\":{\"x\":0.05},\"mapbox\":{\"style\":\"light\"}}},\"xaxis\":{\"anchor\":\"y\",\"domain\":[0.0,0.45],\"range\":[-1.2,1.2]},\"yaxis\":{\"anchor\":\"x\",\"domain\":[0.0,1.0],\"range\":[-1.2,1.2]},\"xaxis2\":{\"anchor\":\"y2\",\"domain\":[0.55,1.0],\"range\":[-1.2,1.2]},\"yaxis2\":{\"anchor\":\"x2\",\"domain\":[0.0,1.0],\"range\":[-1.2,1.2]},\"annotations\":[{\"font\":{\"size\":16},\"showarrow\":false,\"text\":\"Original data\",\"x\":0.225,\"xanchor\":\"center\",\"xref\":\"paper\",\"y\":1.0,\"yanchor\":\"bottom\",\"yref\":\"paper\"},{\"font\":{\"size\":16},\"showarrow\":false,\"text\":\"Synthetic data\",\"x\":0.775,\"xanchor\":\"center\",\"xref\":\"paper\",\"y\":1.0,\"yanchor\":\"bottom\",\"yref\":\"paper\"}],\"height\":600,\"width\":800},                        {\"responsive\": true}                    ).then(function(){\n",
              "                            \n",
              "var gd = document.getElementById('a8eecb10-801c-49c1-ab6a-03b36dd09a20');\n",
              "var x = new MutationObserver(function (mutations, observer) {{\n",
              "        var display = window.getComputedStyle(gd).display;\n",
              "        if (!display || display === 'none') {{\n",
              "            console.log([gd, 'removed!']);\n",
              "            Plotly.purge(gd);\n",
              "            observer.disconnect();\n",
              "        }}\n",
              "}});\n",
              "\n",
              "// Listen for the removal of the full notebook cells\n",
              "var notebookContainer = gd.closest('#notebook-container');\n",
              "if (notebookContainer) {{\n",
              "    x.observe(notebookContainer, {childList: true});\n",
              "}}\n",
              "\n",
              "// Listen for the clearing of the current output cell\n",
              "var outputEl = gd.closest('.output');\n",
              "if (outputEl) {{\n",
              "    x.observe(outputEl, {childList: true});\n",
              "}}\n",
              "\n",
              "                        })                };                            </script>        </div>\n",
              "</body>\n",
              "</html>"
            ]
          },
          "metadata": {}
        }
      ]
    },
    {
      "cell_type": "code",
      "source": [
        "# For swiss roll problem\n",
        "\"\"\"fig = go.Figure(data=[go.Scatter3d(\n",
        "    x=df['v1'],\n",
        "    y=df['v2'],\n",
        "    z=df['v3'],\n",
        "    mode='markers',\n",
        "    marker_color=df['y'],\n",
        "    marker_size=2)]\n",
        "                )\n",
        "fig.show()\"\"\""
      ],
      "metadata": {
        "colab": {
          "base_uri": "https://localhost:8080/",
          "height": 55
        },
        "id": "COS6v7BKP32o",
        "outputId": "7008cd24-861f-46f2-b527-ebf1d998f2d8"
      },
      "execution_count": 18,
      "outputs": [
        {
          "output_type": "execute_result",
          "data": {
            "text/plain": [
              "\"fig = go.Figure(data=[go.Scatter3d(\\n    x=df['v1'], \\n    y=df['v2'], \\n    z=df['v3'],\\n    mode='markers',\\n    marker_color=df['y'],\\n    marker_size=2)]\\n                )\\nfig.show()\""
            ],
            "application/vnd.google.colaboratory.intrinsic+json": {
              "type": "string"
            }
          },
          "metadata": {},
          "execution_count": 18
        }
      ]
    },
    {
      "cell_type": "code",
      "source": [
        "# For swiss roll problem\n",
        "\"\"\"fig = go.Figure(data=[go.Scatter3d(\n",
        "    x=df_synthetic['v1'],\n",
        "    y=df_synthetic['v2'],\n",
        "    z=df_synthetic['v3'],\n",
        "    mode='markers',\n",
        "    marker_color=df_synthetic['y'],\n",
        "    marker_size=2)])\n",
        "fig.show()\"\"\""
      ],
      "metadata": {
        "colab": {
          "base_uri": "https://localhost:8080/",
          "height": 55
        },
        "id": "0ZRn4JQ6P_Ps",
        "outputId": "58c71bbc-692f-4c45-f023-f610fd0e0fd8"
      },
      "execution_count": 19,
      "outputs": [
        {
          "output_type": "execute_result",
          "data": {
            "text/plain": [
              "\"fig = go.Figure(data=[go.Scatter3d(\\n    x=df_synthetic['v1'], \\n    y=df_synthetic['v2'], \\n    z=df_synthetic['v3'],\\n    mode='markers',\\n    marker_color=df_synthetic['y'],\\n    marker_size=2)])\\nfig.show()\""
            ],
            "application/vnd.google.colaboratory.intrinsic+json": {
              "type": "string"
            }
          },
          "metadata": {},
          "execution_count": 19
        }
      ]
    },
    {
      "cell_type": "markdown",
      "source": [
        "# Metrics"
      ],
      "metadata": {
        "id": "X9aT3xbcIn9h"
      }
    },
    {
      "cell_type": "code",
      "source": [
        "\"\"\"Cluster Analysis Measure (Woo et al. 2009)\n",
        "Largevalues of Uc indicate disparities in the cluster\n",
        "memberships, which in turn suggest differencesin the\n",
        "distributions of the original and masked data.\n",
        "References:\n",
        "Woo M.-J., Reiter J. P., Oganian A., Karr A. F. Global\n",
        "Measures of Data Utility for Microdata Masked for Disclosure\n",
        "Limitation. J. Priv Confidentiality. 2009;1(1):111–24.\"\"\"\n",
        "\n",
        "def cluster_measure(original, synthetic):\n",
        "  X = original.copy()\n",
        "  Y = synthetic.copy()\n",
        "  X['Synthetic'] = 0\n",
        "  Y['Synthetic'] = 1\n",
        "  #Stochastic sampling\n",
        "  data_cluster = pd.concat([X, Y.sample(len(X))])\n",
        "  kmeans = KMeans(\n",
        "      n_clusters=2,\n",
        "      n_init='auto',\n",
        "      random_state=0\n",
        "      ).fit(data_cluster)\n",
        "  data_cluster['Cluster'] = kmeans.predict(\n",
        "      data_cluster\n",
        "      )\n",
        "  r = 0\n",
        "  for i in [0,1]:\n",
        "    cluster = data_cluster[\n",
        "        data_cluster['Cluster'] == i\n",
        "        ]\n",
        "    original = cluster[\n",
        "        cluster['Synthetic'] == 0\n",
        "        ]\n",
        "    lo = len(original)\n",
        "    lc = len(cluster)\n",
        "    if lo > 0 and lc-lo > 0:\n",
        "      r += np.square(lo/(lc-lo) - 0.5)\n",
        "  Uc = np.log10(r/2)\n",
        "  return Uc\n",
        "\n",
        "\"\"\"Propensity score method\n",
        "Propensity score mean-squared error pMSE (Woo et al. 2009). If\n",
        "a ratio score of 0 implies the two datasets are identical. A\n",
        "score of 1 implies that are totally different.\n",
        "\n",
        "References:\n",
        "Woo M.-J., Reiter J. P., Oganian A., Karr A. F. Global\n",
        "Measures of Data Utility for Microdata Masked for Disclosure\n",
        "Limitation. J Priv Confidentiality. 2009;1(1):111–24.\"\"\"\n",
        "\n",
        "def pmse(original, synthetic):\n",
        "  X = original.copy()\n",
        "  Y = synthetic.copy()\n",
        "  X['Synthetic'] = 0\n",
        "  Y['Synthetic'] = 1\n",
        "  data = pd.concat([X, Y.sample(len(X))])\n",
        "  X_f = data.drop(columns=['Synthetic'])\n",
        "  y_f = data['Synthetic']\n",
        "  clf = LogisticRegression(\n",
        "      max_iter=1000,\n",
        "      random_state=0\n",
        "      ).fit(X_f, y_f)\n",
        "  pMSE = np.sum(\n",
        "      np.square(\n",
        "          clf.predict_proba(X_f)[0:,0] - 0.5\n",
        "          )\n",
        "      )/len(data)\n",
        "  X = X.drop(columns=['Synthetic'])\n",
        "  Y = Y.drop(columns=['Synthetic'])\n",
        "  return pMSE"
      ],
      "metadata": {
        "id": "QCmH_REaD80N"
      },
      "execution_count": 16,
      "outputs": []
    },
    {
      "cell_type": "code",
      "source": [
        "print(f\"\"\"\n",
        "Synthetic - Cluster measure = {cluster_measure(df, df_synthetic):.2f}\n",
        "Synthetic - Propensity score mean-squared error pMSE = {pmse(df, df_synthetic):.4f}\"\"\")\n",
        "print(f'Synthetic data similarity = {100*(1-pmse(df, df_synthetic)):.2f}%')"
      ],
      "metadata": {
        "id": "IAKZE8r_SC7w",
        "colab": {
          "base_uri": "https://localhost:8080/"
        },
        "outputId": "5d9f80bd-c7ca-4c71-8632-1b4004777d4c"
      },
      "execution_count": 17,
      "outputs": [
        {
          "output_type": "stream",
          "name": "stdout",
          "text": [
            "\n",
            "Synthetic - Cluster measure = -0.11\n",
            "Synthetic - Propensity score mean-squared error pMSE = 0.0097\n",
            "Synthetic data similarity = 99.03%\n"
          ]
        }
      ]
    },
    {
      "cell_type": "code",
      "source": [
        "diff = df.corr() - df_synthetic.corr()\n",
        "px.imshow(\n",
        "    abs(diff),\n",
        "    color_continuous_scale='reds',\n",
        "    zmin=0, zmax=1)"
      ],
      "metadata": {
        "colab": {
          "base_uri": "https://localhost:8080/",
          "height": 542
        },
        "id": "IX_40wRW6NaD",
        "outputId": "f3eba793-4928-43c4-839a-effb0d6761c4"
      },
      "execution_count": 20,
      "outputs": [
        {
          "output_type": "display_data",
          "data": {
            "text/html": [
              "<html>\n",
              "<head><meta charset=\"utf-8\" /></head>\n",
              "<body>\n",
              "    <div>            <script src=\"https://cdnjs.cloudflare.com/ajax/libs/mathjax/2.7.5/MathJax.js?config=TeX-AMS-MML_SVG\"></script><script type=\"text/javascript\">if (window.MathJax && window.MathJax.Hub && window.MathJax.Hub.Config) {window.MathJax.Hub.Config({SVG: {font: \"STIX-Web\"}});}</script>                <script type=\"text/javascript\">window.PlotlyConfig = {MathJaxConfig: 'local'};</script>\n",
              "        <script charset=\"utf-8\" src=\"https://cdn.plot.ly/plotly-2.24.1.min.js\"></script>                <div id=\"45ec8390-a301-4f69-87d9-aaefb15284ad\" class=\"plotly-graph-div\" style=\"height:525px; width:100%;\"></div>            <script type=\"text/javascript\">                                    window.PLOTLYENV=window.PLOTLYENV || {};                                    if (document.getElementById(\"45ec8390-a301-4f69-87d9-aaefb15284ad\")) {                    Plotly.newPlot(                        \"45ec8390-a301-4f69-87d9-aaefb15284ad\",                        [{\"coloraxis\":\"coloraxis\",\"name\":\"0\",\"x\":[\"v1\",\"v2\",\"y\"],\"y\":[\"v1\",\"v2\",\"y\"],\"z\":[[0.0,0.1694079098765308,0.16855835091408203],[0.1694079098765308,0.0,0.14840310376350666],[0.16855835091408203,0.14840310376350666,0.0]],\"type\":\"heatmap\",\"xaxis\":\"x\",\"yaxis\":\"y\",\"hovertemplate\":\"x: %{x}\\u003cbr\\u003ey: %{y}\\u003cbr\\u003ecolor: %{z}\\u003cextra\\u003e\\u003c\\u002fextra\\u003e\"}],                        {\"template\":{\"data\":{\"histogram2dcontour\":[{\"type\":\"histogram2dcontour\",\"colorbar\":{\"outlinewidth\":0,\"ticks\":\"\"},\"colorscale\":[[0.0,\"#0d0887\"],[0.1111111111111111,\"#46039f\"],[0.2222222222222222,\"#7201a8\"],[0.3333333333333333,\"#9c179e\"],[0.4444444444444444,\"#bd3786\"],[0.5555555555555556,\"#d8576b\"],[0.6666666666666666,\"#ed7953\"],[0.7777777777777778,\"#fb9f3a\"],[0.8888888888888888,\"#fdca26\"],[1.0,\"#f0f921\"]]}],\"choropleth\":[{\"type\":\"choropleth\",\"colorbar\":{\"outlinewidth\":0,\"ticks\":\"\"}}],\"histogram2d\":[{\"type\":\"histogram2d\",\"colorbar\":{\"outlinewidth\":0,\"ticks\":\"\"},\"colorscale\":[[0.0,\"#0d0887\"],[0.1111111111111111,\"#46039f\"],[0.2222222222222222,\"#7201a8\"],[0.3333333333333333,\"#9c179e\"],[0.4444444444444444,\"#bd3786\"],[0.5555555555555556,\"#d8576b\"],[0.6666666666666666,\"#ed7953\"],[0.7777777777777778,\"#fb9f3a\"],[0.8888888888888888,\"#fdca26\"],[1.0,\"#f0f921\"]]}],\"heatmap\":[{\"type\":\"heatmap\",\"colorbar\":{\"outlinewidth\":0,\"ticks\":\"\"},\"colorscale\":[[0.0,\"#0d0887\"],[0.1111111111111111,\"#46039f\"],[0.2222222222222222,\"#7201a8\"],[0.3333333333333333,\"#9c179e\"],[0.4444444444444444,\"#bd3786\"],[0.5555555555555556,\"#d8576b\"],[0.6666666666666666,\"#ed7953\"],[0.7777777777777778,\"#fb9f3a\"],[0.8888888888888888,\"#fdca26\"],[1.0,\"#f0f921\"]]}],\"heatmapgl\":[{\"type\":\"heatmapgl\",\"colorbar\":{\"outlinewidth\":0,\"ticks\":\"\"},\"colorscale\":[[0.0,\"#0d0887\"],[0.1111111111111111,\"#46039f\"],[0.2222222222222222,\"#7201a8\"],[0.3333333333333333,\"#9c179e\"],[0.4444444444444444,\"#bd3786\"],[0.5555555555555556,\"#d8576b\"],[0.6666666666666666,\"#ed7953\"],[0.7777777777777778,\"#fb9f3a\"],[0.8888888888888888,\"#fdca26\"],[1.0,\"#f0f921\"]]}],\"contourcarpet\":[{\"type\":\"contourcarpet\",\"colorbar\":{\"outlinewidth\":0,\"ticks\":\"\"}}],\"contour\":[{\"type\":\"contour\",\"colorbar\":{\"outlinewidth\":0,\"ticks\":\"\"},\"colorscale\":[[0.0,\"#0d0887\"],[0.1111111111111111,\"#46039f\"],[0.2222222222222222,\"#7201a8\"],[0.3333333333333333,\"#9c179e\"],[0.4444444444444444,\"#bd3786\"],[0.5555555555555556,\"#d8576b\"],[0.6666666666666666,\"#ed7953\"],[0.7777777777777778,\"#fb9f3a\"],[0.8888888888888888,\"#fdca26\"],[1.0,\"#f0f921\"]]}],\"surface\":[{\"type\":\"surface\",\"colorbar\":{\"outlinewidth\":0,\"ticks\":\"\"},\"colorscale\":[[0.0,\"#0d0887\"],[0.1111111111111111,\"#46039f\"],[0.2222222222222222,\"#7201a8\"],[0.3333333333333333,\"#9c179e\"],[0.4444444444444444,\"#bd3786\"],[0.5555555555555556,\"#d8576b\"],[0.6666666666666666,\"#ed7953\"],[0.7777777777777778,\"#fb9f3a\"],[0.8888888888888888,\"#fdca26\"],[1.0,\"#f0f921\"]]}],\"mesh3d\":[{\"type\":\"mesh3d\",\"colorbar\":{\"outlinewidth\":0,\"ticks\":\"\"}}],\"scatter\":[{\"fillpattern\":{\"fillmode\":\"overlay\",\"size\":10,\"solidity\":0.2},\"type\":\"scatter\"}],\"parcoords\":[{\"type\":\"parcoords\",\"line\":{\"colorbar\":{\"outlinewidth\":0,\"ticks\":\"\"}}}],\"scatterpolargl\":[{\"type\":\"scatterpolargl\",\"marker\":{\"colorbar\":{\"outlinewidth\":0,\"ticks\":\"\"}}}],\"bar\":[{\"error_x\":{\"color\":\"#2a3f5f\"},\"error_y\":{\"color\":\"#2a3f5f\"},\"marker\":{\"line\":{\"color\":\"#E5ECF6\",\"width\":0.5},\"pattern\":{\"fillmode\":\"overlay\",\"size\":10,\"solidity\":0.2}},\"type\":\"bar\"}],\"scattergeo\":[{\"type\":\"scattergeo\",\"marker\":{\"colorbar\":{\"outlinewidth\":0,\"ticks\":\"\"}}}],\"scatterpolar\":[{\"type\":\"scatterpolar\",\"marker\":{\"colorbar\":{\"outlinewidth\":0,\"ticks\":\"\"}}}],\"histogram\":[{\"marker\":{\"pattern\":{\"fillmode\":\"overlay\",\"size\":10,\"solidity\":0.2}},\"type\":\"histogram\"}],\"scattergl\":[{\"type\":\"scattergl\",\"marker\":{\"colorbar\":{\"outlinewidth\":0,\"ticks\":\"\"}}}],\"scatter3d\":[{\"type\":\"scatter3d\",\"line\":{\"colorbar\":{\"outlinewidth\":0,\"ticks\":\"\"}},\"marker\":{\"colorbar\":{\"outlinewidth\":0,\"ticks\":\"\"}}}],\"scattermapbox\":[{\"type\":\"scattermapbox\",\"marker\":{\"colorbar\":{\"outlinewidth\":0,\"ticks\":\"\"}}}],\"scatterternary\":[{\"type\":\"scatterternary\",\"marker\":{\"colorbar\":{\"outlinewidth\":0,\"ticks\":\"\"}}}],\"scattercarpet\":[{\"type\":\"scattercarpet\",\"marker\":{\"colorbar\":{\"outlinewidth\":0,\"ticks\":\"\"}}}],\"carpet\":[{\"aaxis\":{\"endlinecolor\":\"#2a3f5f\",\"gridcolor\":\"white\",\"linecolor\":\"white\",\"minorgridcolor\":\"white\",\"startlinecolor\":\"#2a3f5f\"},\"baxis\":{\"endlinecolor\":\"#2a3f5f\",\"gridcolor\":\"white\",\"linecolor\":\"white\",\"minorgridcolor\":\"white\",\"startlinecolor\":\"#2a3f5f\"},\"type\":\"carpet\"}],\"table\":[{\"cells\":{\"fill\":{\"color\":\"#EBF0F8\"},\"line\":{\"color\":\"white\"}},\"header\":{\"fill\":{\"color\":\"#C8D4E3\"},\"line\":{\"color\":\"white\"}},\"type\":\"table\"}],\"barpolar\":[{\"marker\":{\"line\":{\"color\":\"#E5ECF6\",\"width\":0.5},\"pattern\":{\"fillmode\":\"overlay\",\"size\":10,\"solidity\":0.2}},\"type\":\"barpolar\"}],\"pie\":[{\"automargin\":true,\"type\":\"pie\"}]},\"layout\":{\"autotypenumbers\":\"strict\",\"colorway\":[\"#636efa\",\"#EF553B\",\"#00cc96\",\"#ab63fa\",\"#FFA15A\",\"#19d3f3\",\"#FF6692\",\"#B6E880\",\"#FF97FF\",\"#FECB52\"],\"font\":{\"color\":\"#2a3f5f\"},\"hovermode\":\"closest\",\"hoverlabel\":{\"align\":\"left\"},\"paper_bgcolor\":\"white\",\"plot_bgcolor\":\"#E5ECF6\",\"polar\":{\"bgcolor\":\"#E5ECF6\",\"angularaxis\":{\"gridcolor\":\"white\",\"linecolor\":\"white\",\"ticks\":\"\"},\"radialaxis\":{\"gridcolor\":\"white\",\"linecolor\":\"white\",\"ticks\":\"\"}},\"ternary\":{\"bgcolor\":\"#E5ECF6\",\"aaxis\":{\"gridcolor\":\"white\",\"linecolor\":\"white\",\"ticks\":\"\"},\"baxis\":{\"gridcolor\":\"white\",\"linecolor\":\"white\",\"ticks\":\"\"},\"caxis\":{\"gridcolor\":\"white\",\"linecolor\":\"white\",\"ticks\":\"\"}},\"coloraxis\":{\"colorbar\":{\"outlinewidth\":0,\"ticks\":\"\"}},\"colorscale\":{\"sequential\":[[0.0,\"#0d0887\"],[0.1111111111111111,\"#46039f\"],[0.2222222222222222,\"#7201a8\"],[0.3333333333333333,\"#9c179e\"],[0.4444444444444444,\"#bd3786\"],[0.5555555555555556,\"#d8576b\"],[0.6666666666666666,\"#ed7953\"],[0.7777777777777778,\"#fb9f3a\"],[0.8888888888888888,\"#fdca26\"],[1.0,\"#f0f921\"]],\"sequentialminus\":[[0.0,\"#0d0887\"],[0.1111111111111111,\"#46039f\"],[0.2222222222222222,\"#7201a8\"],[0.3333333333333333,\"#9c179e\"],[0.4444444444444444,\"#bd3786\"],[0.5555555555555556,\"#d8576b\"],[0.6666666666666666,\"#ed7953\"],[0.7777777777777778,\"#fb9f3a\"],[0.8888888888888888,\"#fdca26\"],[1.0,\"#f0f921\"]],\"diverging\":[[0,\"#8e0152\"],[0.1,\"#c51b7d\"],[0.2,\"#de77ae\"],[0.3,\"#f1b6da\"],[0.4,\"#fde0ef\"],[0.5,\"#f7f7f7\"],[0.6,\"#e6f5d0\"],[0.7,\"#b8e186\"],[0.8,\"#7fbc41\"],[0.9,\"#4d9221\"],[1,\"#276419\"]]},\"xaxis\":{\"gridcolor\":\"white\",\"linecolor\":\"white\",\"ticks\":\"\",\"title\":{\"standoff\":15},\"zerolinecolor\":\"white\",\"automargin\":true,\"zerolinewidth\":2},\"yaxis\":{\"gridcolor\":\"white\",\"linecolor\":\"white\",\"ticks\":\"\",\"title\":{\"standoff\":15},\"zerolinecolor\":\"white\",\"automargin\":true,\"zerolinewidth\":2},\"scene\":{\"xaxis\":{\"backgroundcolor\":\"#E5ECF6\",\"gridcolor\":\"white\",\"linecolor\":\"white\",\"showbackground\":true,\"ticks\":\"\",\"zerolinecolor\":\"white\",\"gridwidth\":2},\"yaxis\":{\"backgroundcolor\":\"#E5ECF6\",\"gridcolor\":\"white\",\"linecolor\":\"white\",\"showbackground\":true,\"ticks\":\"\",\"zerolinecolor\":\"white\",\"gridwidth\":2},\"zaxis\":{\"backgroundcolor\":\"#E5ECF6\",\"gridcolor\":\"white\",\"linecolor\":\"white\",\"showbackground\":true,\"ticks\":\"\",\"zerolinecolor\":\"white\",\"gridwidth\":2}},\"shapedefaults\":{\"line\":{\"color\":\"#2a3f5f\"}},\"annotationdefaults\":{\"arrowcolor\":\"#2a3f5f\",\"arrowhead\":0,\"arrowwidth\":1},\"geo\":{\"bgcolor\":\"white\",\"landcolor\":\"#E5ECF6\",\"subunitcolor\":\"white\",\"showland\":true,\"showlakes\":true,\"lakecolor\":\"white\"},\"title\":{\"x\":0.05},\"mapbox\":{\"style\":\"light\"}}},\"xaxis\":{\"anchor\":\"y\",\"domain\":[0.0,1.0],\"scaleanchor\":\"y\",\"constrain\":\"domain\"},\"yaxis\":{\"anchor\":\"x\",\"domain\":[0.0,1.0],\"autorange\":\"reversed\",\"constrain\":\"domain\"},\"coloraxis\":{\"colorscale\":[[0.0,\"rgb(255,245,240)\"],[0.125,\"rgb(254,224,210)\"],[0.25,\"rgb(252,187,161)\"],[0.375,\"rgb(252,146,114)\"],[0.5,\"rgb(251,106,74)\"],[0.625,\"rgb(239,59,44)\"],[0.75,\"rgb(203,24,29)\"],[0.875,\"rgb(165,15,21)\"],[1.0,\"rgb(103,0,13)\"]],\"cmin\":0,\"cmax\":1},\"margin\":{\"t\":60}},                        {\"responsive\": true}                    ).then(function(){\n",
              "                            \n",
              "var gd = document.getElementById('45ec8390-a301-4f69-87d9-aaefb15284ad');\n",
              "var x = new MutationObserver(function (mutations, observer) {{\n",
              "        var display = window.getComputedStyle(gd).display;\n",
              "        if (!display || display === 'none') {{\n",
              "            console.log([gd, 'removed!']);\n",
              "            Plotly.purge(gd);\n",
              "            observer.disconnect();\n",
              "        }}\n",
              "}});\n",
              "\n",
              "// Listen for the removal of the full notebook cells\n",
              "var notebookContainer = gd.closest('#notebook-container');\n",
              "if (notebookContainer) {{\n",
              "    x.observe(notebookContainer, {childList: true});\n",
              "}}\n",
              "\n",
              "// Listen for the clearing of the current output cell\n",
              "var outputEl = gd.closest('.output');\n",
              "if (outputEl) {{\n",
              "    x.observe(outputEl, {childList: true});\n",
              "}}\n",
              "\n",
              "                        })                };                            </script>        </div>\n",
              "</body>\n",
              "</html>"
            ]
          },
          "metadata": {}
        }
      ]
    }
  ]
}